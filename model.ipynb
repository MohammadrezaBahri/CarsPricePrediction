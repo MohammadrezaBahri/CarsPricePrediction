{
 "cells": [
  {
   "cell_type": "code",
   "execution_count": 2,
   "metadata": {},
   "outputs": [],
   "source": [
    "import pandas as pd\n",
    "import json\n",
    "import numpy as np\n",
    "from unidecode import unidecode\n",
    "from sklearn.preprocessing import StandardScaler\n",
    "from sklearn.model_selection import train_test_split\n",
    "from sklearn.linear_model import LinearRegression, Ridge\n",
    "from sklearn.ensemble import RandomForestRegressor\n",
    "from sklearn.svm import SVR\n",
    "from sklearn.neighbors import KNeighborsRegressor\n",
    "from sklearn.model_selection import cross_validate\n",
    "from sklearn.model_selection import RandomizedSearchCV\n",
    "from xgboost import XGBRegressor\n",
    "from sklearn.model_selection import GridSearchCV\n",
    "from sklearn import metrics"
   ]
  },
  {
   "cell_type": "code",
   "execution_count": 3,
   "metadata": {},
   "outputs": [
    {
     "data": {
      "text/html": [
       "<div>\n",
       "<style scoped>\n",
       "    .dataframe tbody tr th:only-of-type {\n",
       "        vertical-align: middle;\n",
       "    }\n",
       "\n",
       "    .dataframe tbody tr th {\n",
       "        vertical-align: top;\n",
       "    }\n",
       "\n",
       "    .dataframe thead th {\n",
       "        text-align: right;\n",
       "    }\n",
       "</style>\n",
       "<table border=\"1\" class=\"dataframe\">\n",
       "  <thead>\n",
       "    <tr style=\"text-align: right;\">\n",
       "      <th></th>\n",
       "      <th>token</th>\n",
       "      <th>description</th>\n",
       "      <th>کارکرد</th>\n",
       "      <th>مدل (سال تولید)</th>\n",
       "      <th>رنگ</th>\n",
       "      <th>برند و تیپ</th>\n",
       "      <th>وضعیت موتور</th>\n",
       "      <th>وضعیت شاسی‌ها</th>\n",
       "      <th>وضعیت بدنه</th>\n",
       "      <th>مهلت بیمهٔ شخص ثالث</th>\n",
       "      <th>...</th>\n",
       "      <th>نوع سوخت</th>\n",
       "      <th>قیمت فروش نقدی</th>\n",
       "      <th>وضعیت شاسی جلو</th>\n",
       "      <th>وضعیت شاسی عقب</th>\n",
       "      <th>نمایشگاه</th>\n",
       "      <th>حداقل مبلغ پیش‌پرداخت</th>\n",
       "      <th>نحوهٔ فروش</th>\n",
       "      <th>تعداد اقساط</th>\n",
       "      <th>مبلغ قسط</th>\n",
       "      <th>فروشنده</th>\n",
       "    </tr>\n",
       "  </thead>\n",
       "  <tbody>\n",
       "    <tr>\n",
       "      <th>0</th>\n",
       "      <td>wYtmuTDf</td>\n",
       "      <td>ساعات بازدید روزهای عادی 17.30 به بعد.</td>\n",
       "      <td>۲۴۲٬۰۰۰</td>\n",
       "      <td>۱۳۸۵</td>\n",
       "      <td>مشکی</td>\n",
       "      <td>پراید، صندوق‌دار، بنزینی</td>\n",
       "      <td>سالم</td>\n",
       "      <td>سالم و پلمپ</td>\n",
       "      <td>خط و خش جزیی</td>\n",
       "      <td>۱ ماه</td>\n",
       "      <td>...</td>\n",
       "      <td>بنزین</td>\n",
       "      <td>۹۳٬۰۰۰٬۰۰۰ تومان</td>\n",
       "      <td>NaN</td>\n",
       "      <td>NaN</td>\n",
       "      <td>NaN</td>\n",
       "      <td>NaN</td>\n",
       "      <td>NaN</td>\n",
       "      <td>NaN</td>\n",
       "      <td>NaN</td>\n",
       "      <td>NaN</td>\n",
       "    </tr>\n",
       "    <tr>\n",
       "      <th>1</th>\n",
       "      <td>wYO2A7PE</td>\n",
       "      <td>خودرو از  لحاظ فنی بشرط کارشناسی بدنه چند لکه ...</td>\n",
       "      <td>۲۰۰</td>\n",
       "      <td>۲۰۱۴</td>\n",
       "      <td>نقره‌ای</td>\n",
       "      <td>بایک، سابرینا، هاچبک</td>\n",
       "      <td>سالم</td>\n",
       "      <td>سالم و پلمپ</td>\n",
       "      <td>خط و خش جزیی</td>\n",
       "      <td>۱۰ ماه</td>\n",
       "      <td>...</td>\n",
       "      <td>NaN</td>\n",
       "      <td>۳۲۵٬۰۰۰٬۰۰۰ تومان</td>\n",
       "      <td>NaN</td>\n",
       "      <td>NaN</td>\n",
       "      <td>NaN</td>\n",
       "      <td>NaN</td>\n",
       "      <td>NaN</td>\n",
       "      <td>NaN</td>\n",
       "      <td>NaN</td>\n",
       "      <td>NaN</td>\n",
       "    </tr>\n",
       "    <tr>\n",
       "      <th>2</th>\n",
       "      <td>wYti-uhK</td>\n",
       "      <td>با سلام\\nفنی سالم.بی رنگ.معاوضه با خودرو ارزان...</td>\n",
       "      <td>۸۹٬۰۰۰</td>\n",
       "      <td>۱۳۹۴</td>\n",
       "      <td>سفید</td>\n",
       "      <td>آریو، اتوماتیک 1600cc</td>\n",
       "      <td>سالم</td>\n",
       "      <td>سالم و پلمپ</td>\n",
       "      <td>سالم و بی‌خط و خش</td>\n",
       "      <td>۶ ماه</td>\n",
       "      <td>...</td>\n",
       "      <td>بنزین</td>\n",
       "      <td>۴۳۰٬۰۰۰٬۰۰۰ تومان</td>\n",
       "      <td>NaN</td>\n",
       "      <td>NaN</td>\n",
       "      <td>NaN</td>\n",
       "      <td>NaN</td>\n",
       "      <td>NaN</td>\n",
       "      <td>NaN</td>\n",
       "      <td>NaN</td>\n",
       "      <td>NaN</td>\n",
       "    </tr>\n",
       "    <tr>\n",
       "      <th>3</th>\n",
       "      <td>wYteuShG</td>\n",
       "      <td>تمام سرویس ها تازه انجام شده ماشین کم کار و بس...</td>\n",
       "      <td>۴۸٬۰۰۰</td>\n",
       "      <td>۱۳۹۷</td>\n",
       "      <td>سفید</td>\n",
       "      <td>دانگ فنگ، H30 کراس</td>\n",
       "      <td>سالم</td>\n",
       "      <td>NaN</td>\n",
       "      <td>رنگ‌شدگی در ۱ ناحیه</td>\n",
       "      <td>۱۲ ماه</td>\n",
       "      <td>...</td>\n",
       "      <td>بنزین</td>\n",
       "      <td>۴۶۵٬۰۰۰٬۰۰۰ تومان</td>\n",
       "      <td>سالم و پلمپ</td>\n",
       "      <td>ضربه‌خورده</td>\n",
       "      <td>NaN</td>\n",
       "      <td>NaN</td>\n",
       "      <td>NaN</td>\n",
       "      <td>NaN</td>\n",
       "      <td>NaN</td>\n",
       "      <td>NaN</td>\n",
       "    </tr>\n",
       "    <tr>\n",
       "      <th>4</th>\n",
       "      <td>wYtW-Q6S</td>\n",
       "      <td>تاکسی بین شهری slx بسیار تروتمیز موتور سالم گی...</td>\n",
       "      <td>۶۰٬۰۰۰</td>\n",
       "      <td>۱۳۸۹</td>\n",
       "      <td>زرد</td>\n",
       "      <td>پژو، 405، SLX بنزینی</td>\n",
       "      <td>سالم</td>\n",
       "      <td>سالم و پلمپ</td>\n",
       "      <td>دوررنگ</td>\n",
       "      <td>۱۰ ماه</td>\n",
       "      <td>...</td>\n",
       "      <td>بنزین</td>\n",
       "      <td>۱۶۰٬۰۰۰٬۰۰۰ تومان</td>\n",
       "      <td>NaN</td>\n",
       "      <td>NaN</td>\n",
       "      <td>NaN</td>\n",
       "      <td>NaN</td>\n",
       "      <td>NaN</td>\n",
       "      <td>NaN</td>\n",
       "      <td>NaN</td>\n",
       "      <td>NaN</td>\n",
       "    </tr>\n",
       "  </tbody>\n",
       "</table>\n",
       "<p>5 rows × 21 columns</p>\n",
       "</div>"
      ],
      "text/plain": [
       "      token                                        description   کارکرد  \\\n",
       "0  wYtmuTDf             ساعات بازدید روزهای عادی 17.30 به بعد.  ۲۴۲٬۰۰۰   \n",
       "1  wYO2A7PE  خودرو از  لحاظ فنی بشرط کارشناسی بدنه چند لکه ...      ۲۰۰   \n",
       "2  wYti-uhK  با سلام\\nفنی سالم.بی رنگ.معاوضه با خودرو ارزان...   ۸۹٬۰۰۰   \n",
       "3  wYteuShG  تمام سرویس ها تازه انجام شده ماشین کم کار و بس...   ۴۸٬۰۰۰   \n",
       "4  wYtW-Q6S  تاکسی بین شهری slx بسیار تروتمیز موتور سالم گی...   ۶۰٬۰۰۰   \n",
       "\n",
       "  مدل (سال تولید)      رنگ                برند و تیپ وضعیت موتور  \\\n",
       "0            ۱۳۸۵     مشکی  پراید، صندوق‌دار، بنزینی        سالم   \n",
       "1            ۲۰۱۴  نقره‌ای      بایک، سابرینا، هاچبک        سالم   \n",
       "2            ۱۳۹۴     سفید     آریو، اتوماتیک 1600cc        سالم   \n",
       "3            ۱۳۹۷     سفید        دانگ فنگ، H30 کراس        سالم   \n",
       "4            ۱۳۸۹      زرد      پژو، 405، SLX بنزینی        سالم   \n",
       "\n",
       "  وضعیت شاسی‌ها           وضعیت بدنه مهلت بیمهٔ شخص ثالث  ... نوع سوخت  \\\n",
       "0   سالم و پلمپ         خط و خش جزیی               ۱ ماه  ...    بنزین   \n",
       "1   سالم و پلمپ         خط و خش جزیی              ۱۰ ماه  ...      NaN   \n",
       "2   سالم و پلمپ    سالم و بی‌خط و خش               ۶ ماه  ...    بنزین   \n",
       "3           NaN  رنگ‌شدگی در ۱ ناحیه              ۱۲ ماه  ...    بنزین   \n",
       "4   سالم و پلمپ               دوررنگ              ۱۰ ماه  ...    بنزین   \n",
       "\n",
       "      قیمت فروش نقدی وضعیت شاسی جلو وضعیت شاسی عقب نمایشگاه  \\\n",
       "0   ۹۳٬۰۰۰٬۰۰۰ تومان            NaN            NaN      NaN   \n",
       "1  ۳۲۵٬۰۰۰٬۰۰۰ تومان            NaN            NaN      NaN   \n",
       "2  ۴۳۰٬۰۰۰٬۰۰۰ تومان            NaN            NaN      NaN   \n",
       "3  ۴۶۵٬۰۰۰٬۰۰۰ تومان    سالم و پلمپ     ضربه‌خورده      NaN   \n",
       "4  ۱۶۰٬۰۰۰٬۰۰۰ تومان            NaN            NaN      NaN   \n",
       "\n",
       "  حداقل مبلغ پیش‌پرداخت نحوهٔ فروش تعداد اقساط مبلغ قسط فروشنده  \n",
       "0                   NaN        NaN         NaN      NaN     NaN  \n",
       "1                   NaN        NaN         NaN      NaN     NaN  \n",
       "2                   NaN        NaN         NaN      NaN     NaN  \n",
       "3                   NaN        NaN         NaN      NaN     NaN  \n",
       "4                   NaN        NaN         NaN      NaN     NaN  \n",
       "\n",
       "[5 rows x 21 columns]"
      ]
     },
     "execution_count": 3,
     "metadata": {},
     "output_type": "execute_result"
    }
   ],
   "source": [
    "with open('data.json', encoding=\"utf8\") as json_file:\n",
    "    data = json.load(json_file)\n",
    "\n",
    "df = pd.DataFrame.from_dict(data)\n",
    "df.columns = ['token', 'attributes', 'description']\n",
    "df = pd.concat([df.drop(['attributes'], axis=1), df['attributes'].apply(pd.Series)], axis=1).drop_duplicates()\n",
    "df.head()"
   ]
  },
  {
   "cell_type": "code",
   "execution_count": 4,
   "metadata": {},
   "outputs": [
    {
     "name": "stdout",
     "output_type": "stream",
     "text": [
      "<class 'pandas.core.frame.DataFrame'>\n",
      "Int64Index: 15071 entries, 0 to 15766\n",
      "Data columns (total 21 columns):\n",
      " #   Column                 Non-Null Count  Dtype \n",
      "---  ------                 --------------  ----- \n",
      " 0   token                  15071 non-null  object\n",
      " 1   description            15071 non-null  object\n",
      " 2   کارکرد                 15071 non-null  object\n",
      " 3   مدل (سال تولید)        15071 non-null  object\n",
      " 4   رنگ                    15071 non-null  object\n",
      " 5   برند و تیپ             15071 non-null  object\n",
      " 6   وضعیت موتور            14798 non-null  object\n",
      " 7   وضعیت شاسی‌ها          13559 non-null  object\n",
      " 8   وضعیت بدنه             15051 non-null  object\n",
      " 9   مهلت بیمهٔ شخص ثالث    14264 non-null  object\n",
      " 10  گیربکس                 14272 non-null  object\n",
      " 11  نوع سوخت               13028 non-null  object\n",
      " 12  قیمت فروش نقدی         15071 non-null  object\n",
      " 13  وضعیت شاسی جلو         1088 non-null   object\n",
      " 14  وضعیت شاسی عقب         1044 non-null   object\n",
      " 15  نمایشگاه               372 non-null    object\n",
      " 16  حداقل مبلغ پیش‌پرداخت  46 non-null     object\n",
      " 17  نحوهٔ فروش             329 non-null    object\n",
      " 18  تعداد اقساط            38 non-null     object\n",
      " 19  مبلغ قسط               16 non-null     object\n",
      " 20  فروشنده                9 non-null      object\n",
      "dtypes: object(21)\n",
      "memory usage: 2.5+ MB\n"
     ]
    }
   ],
   "source": [
    "df.info()"
   ]
  },
  {
   "cell_type": "code",
   "execution_count": 5,
   "metadata": {},
   "outputs": [
    {
     "data": {
      "text/plain": [
       "14358"
      ]
     },
     "execution_count": 5,
     "metadata": {},
     "output_type": "execute_result"
    }
   ],
   "source": [
    "df['token'].nunique()"
   ]
  },
  {
   "cell_type": "code",
   "execution_count": 6,
   "metadata": {},
   "outputs": [],
   "source": [
    "df['دور رنگ'] = df['description'].str.contains('دور رنگ').astype(int)"
   ]
  },
  {
   "cell_type": "code",
   "execution_count": 7,
   "metadata": {},
   "outputs": [],
   "source": [
    "df['کارکرد'] = df['کارکرد'].apply(lambda x: unidecode(x)).str.replace(',', '').astype(int)"
   ]
  },
  {
   "cell_type": "code",
   "execution_count": 8,
   "metadata": {},
   "outputs": [],
   "source": [
    "df = df[df['مدل (سال تولید)'] != 'قبل از ۱۳۶۶']"
   ]
  },
  {
   "cell_type": "code",
   "execution_count": 9,
   "metadata": {},
   "outputs": [],
   "source": [
    "df['مدل (سال تولید)'] = df['مدل (سال تولید)'].apply(lambda x: unidecode(x)).str.replace(',', '').astype(int)\n",
    "df['مدل (سال تولید)'] = df['مدل (سال تولید)'].apply(lambda x: x - 622 if x >= 1900 else x)"
   ]
  },
  {
   "cell_type": "code",
   "execution_count": 10,
   "metadata": {},
   "outputs": [],
   "source": [
    "df['مهلت بیمهٔ شخص ثالث'] = df['مهلت بیمهٔ شخص ثالث'].str.replace('ماه', '').apply(lambda x: unidecode(str(x))).astype(float)"
   ]
  },
  {
   "cell_type": "code",
   "execution_count": 11,
   "metadata": {},
   "outputs": [],
   "source": [
    "df['قیمت فروش نقدی'] = df['قیمت فروش نقدی'].str.replace('تومان', '').apply(lambda x: unidecode(x)).str.replace(',', '').str.extract('(\\d+)').astype(float)"
   ]
  },
  {
   "cell_type": "code",
   "execution_count": 12,
   "metadata": {},
   "outputs": [
    {
     "data": {
      "text/html": [
       "<div>\n",
       "<style scoped>\n",
       "    .dataframe tbody tr th:only-of-type {\n",
       "        vertical-align: middle;\n",
       "    }\n",
       "\n",
       "    .dataframe tbody tr th {\n",
       "        vertical-align: top;\n",
       "    }\n",
       "\n",
       "    .dataframe thead th {\n",
       "        text-align: right;\n",
       "    }\n",
       "</style>\n",
       "<table border=\"1\" class=\"dataframe\">\n",
       "  <thead>\n",
       "    <tr style=\"text-align: right;\">\n",
       "      <th></th>\n",
       "      <th>token</th>\n",
       "      <th>description</th>\n",
       "      <th>کارکرد</th>\n",
       "      <th>مدل (سال تولید)</th>\n",
       "      <th>رنگ</th>\n",
       "      <th>برند و تیپ</th>\n",
       "      <th>وضعیت موتور</th>\n",
       "      <th>وضعیت شاسی‌ها</th>\n",
       "      <th>وضعیت بدنه</th>\n",
       "      <th>مهلت بیمهٔ شخص ثالث</th>\n",
       "      <th>...</th>\n",
       "      <th>قیمت فروش نقدی</th>\n",
       "      <th>وضعیت شاسی جلو</th>\n",
       "      <th>وضعیت شاسی عقب</th>\n",
       "      <th>نمایشگاه</th>\n",
       "      <th>حداقل مبلغ پیش‌پرداخت</th>\n",
       "      <th>نحوهٔ فروش</th>\n",
       "      <th>تعداد اقساط</th>\n",
       "      <th>مبلغ قسط</th>\n",
       "      <th>فروشنده</th>\n",
       "      <th>دور رنگ</th>\n",
       "    </tr>\n",
       "  </thead>\n",
       "  <tbody>\n",
       "    <tr>\n",
       "      <th>0</th>\n",
       "      <td>wYtmuTDf</td>\n",
       "      <td>ساعات بازدید روزهای عادی 17.30 به بعد.</td>\n",
       "      <td>242000</td>\n",
       "      <td>1385</td>\n",
       "      <td>مشکی</td>\n",
       "      <td>پراید، صندوق‌دار، بنزینی</td>\n",
       "      <td>سالم</td>\n",
       "      <td>سالم و پلمپ</td>\n",
       "      <td>خط و خش جزیی</td>\n",
       "      <td>1.0</td>\n",
       "      <td>...</td>\n",
       "      <td>93000000.0</td>\n",
       "      <td>NaN</td>\n",
       "      <td>NaN</td>\n",
       "      <td>NaN</td>\n",
       "      <td>NaN</td>\n",
       "      <td>NaN</td>\n",
       "      <td>NaN</td>\n",
       "      <td>NaN</td>\n",
       "      <td>NaN</td>\n",
       "      <td>0</td>\n",
       "    </tr>\n",
       "    <tr>\n",
       "      <th>1</th>\n",
       "      <td>wYO2A7PE</td>\n",
       "      <td>خودرو از  لحاظ فنی بشرط کارشناسی بدنه چند لکه ...</td>\n",
       "      <td>200</td>\n",
       "      <td>1392</td>\n",
       "      <td>نقره‌ای</td>\n",
       "      <td>بایک، سابرینا، هاچبک</td>\n",
       "      <td>سالم</td>\n",
       "      <td>سالم و پلمپ</td>\n",
       "      <td>خط و خش جزیی</td>\n",
       "      <td>10.0</td>\n",
       "      <td>...</td>\n",
       "      <td>325000000.0</td>\n",
       "      <td>NaN</td>\n",
       "      <td>NaN</td>\n",
       "      <td>NaN</td>\n",
       "      <td>NaN</td>\n",
       "      <td>NaN</td>\n",
       "      <td>NaN</td>\n",
       "      <td>NaN</td>\n",
       "      <td>NaN</td>\n",
       "      <td>1</td>\n",
       "    </tr>\n",
       "    <tr>\n",
       "      <th>2</th>\n",
       "      <td>wYti-uhK</td>\n",
       "      <td>با سلام\\nفنی سالم.بی رنگ.معاوضه با خودرو ارزان...</td>\n",
       "      <td>89000</td>\n",
       "      <td>1394</td>\n",
       "      <td>سفید</td>\n",
       "      <td>آریو، اتوماتیک 1600cc</td>\n",
       "      <td>سالم</td>\n",
       "      <td>سالم و پلمپ</td>\n",
       "      <td>سالم و بی‌خط و خش</td>\n",
       "      <td>6.0</td>\n",
       "      <td>...</td>\n",
       "      <td>430000000.0</td>\n",
       "      <td>NaN</td>\n",
       "      <td>NaN</td>\n",
       "      <td>NaN</td>\n",
       "      <td>NaN</td>\n",
       "      <td>NaN</td>\n",
       "      <td>NaN</td>\n",
       "      <td>NaN</td>\n",
       "      <td>NaN</td>\n",
       "      <td>0</td>\n",
       "    </tr>\n",
       "    <tr>\n",
       "      <th>3</th>\n",
       "      <td>wYteuShG</td>\n",
       "      <td>تمام سرویس ها تازه انجام شده ماشین کم کار و بس...</td>\n",
       "      <td>48000</td>\n",
       "      <td>1397</td>\n",
       "      <td>سفید</td>\n",
       "      <td>دانگ فنگ، H30 کراس</td>\n",
       "      <td>سالم</td>\n",
       "      <td>NaN</td>\n",
       "      <td>رنگ‌شدگی در ۱ ناحیه</td>\n",
       "      <td>12.0</td>\n",
       "      <td>...</td>\n",
       "      <td>465000000.0</td>\n",
       "      <td>سالم و پلمپ</td>\n",
       "      <td>ضربه‌خورده</td>\n",
       "      <td>NaN</td>\n",
       "      <td>NaN</td>\n",
       "      <td>NaN</td>\n",
       "      <td>NaN</td>\n",
       "      <td>NaN</td>\n",
       "      <td>NaN</td>\n",
       "      <td>0</td>\n",
       "    </tr>\n",
       "    <tr>\n",
       "      <th>4</th>\n",
       "      <td>wYtW-Q6S</td>\n",
       "      <td>تاکسی بین شهری slx بسیار تروتمیز موتور سالم گی...</td>\n",
       "      <td>60000</td>\n",
       "      <td>1389</td>\n",
       "      <td>زرد</td>\n",
       "      <td>پژو، 405، SLX بنزینی</td>\n",
       "      <td>سالم</td>\n",
       "      <td>سالم و پلمپ</td>\n",
       "      <td>دوررنگ</td>\n",
       "      <td>10.0</td>\n",
       "      <td>...</td>\n",
       "      <td>160000000.0</td>\n",
       "      <td>NaN</td>\n",
       "      <td>NaN</td>\n",
       "      <td>NaN</td>\n",
       "      <td>NaN</td>\n",
       "      <td>NaN</td>\n",
       "      <td>NaN</td>\n",
       "      <td>NaN</td>\n",
       "      <td>NaN</td>\n",
       "      <td>0</td>\n",
       "    </tr>\n",
       "  </tbody>\n",
       "</table>\n",
       "<p>5 rows × 22 columns</p>\n",
       "</div>"
      ],
      "text/plain": [
       "      token                                        description  کارکرد  \\\n",
       "0  wYtmuTDf             ساعات بازدید روزهای عادی 17.30 به بعد.  242000   \n",
       "1  wYO2A7PE  خودرو از  لحاظ فنی بشرط کارشناسی بدنه چند لکه ...     200   \n",
       "2  wYti-uhK  با سلام\\nفنی سالم.بی رنگ.معاوضه با خودرو ارزان...   89000   \n",
       "3  wYteuShG  تمام سرویس ها تازه انجام شده ماشین کم کار و بس...   48000   \n",
       "4  wYtW-Q6S  تاکسی بین شهری slx بسیار تروتمیز موتور سالم گی...   60000   \n",
       "\n",
       "   مدل (سال تولید)      رنگ                برند و تیپ وضعیت موتور  \\\n",
       "0             1385     مشکی  پراید، صندوق‌دار، بنزینی        سالم   \n",
       "1             1392  نقره‌ای      بایک، سابرینا، هاچبک        سالم   \n",
       "2             1394     سفید     آریو، اتوماتیک 1600cc        سالم   \n",
       "3             1397     سفید        دانگ فنگ، H30 کراس        سالم   \n",
       "4             1389      زرد      پژو، 405، SLX بنزینی        سالم   \n",
       "\n",
       "  وضعیت شاسی‌ها           وضعیت بدنه  مهلت بیمهٔ شخص ثالث  ... قیمت فروش نقدی  \\\n",
       "0   سالم و پلمپ         خط و خش جزیی                  1.0  ...     93000000.0   \n",
       "1   سالم و پلمپ         خط و خش جزیی                 10.0  ...    325000000.0   \n",
       "2   سالم و پلمپ    سالم و بی‌خط و خش                  6.0  ...    430000000.0   \n",
       "3           NaN  رنگ‌شدگی در ۱ ناحیه                 12.0  ...    465000000.0   \n",
       "4   سالم و پلمپ               دوررنگ                 10.0  ...    160000000.0   \n",
       "\n",
       "  وضعیت شاسی جلو  وضعیت شاسی عقب نمایشگاه حداقل مبلغ پیش‌پرداخت نحوهٔ فروش  \\\n",
       "0            NaN             NaN      NaN                   NaN        NaN   \n",
       "1            NaN             NaN      NaN                   NaN        NaN   \n",
       "2            NaN             NaN      NaN                   NaN        NaN   \n",
       "3    سالم و پلمپ      ضربه‌خورده      NaN                   NaN        NaN   \n",
       "4            NaN             NaN      NaN                   NaN        NaN   \n",
       "\n",
       "  تعداد اقساط مبلغ قسط فروشنده دور رنگ  \n",
       "0         NaN      NaN     NaN       0  \n",
       "1         NaN      NaN     NaN       1  \n",
       "2         NaN      NaN     NaN       0  \n",
       "3         NaN      NaN     NaN       0  \n",
       "4         NaN      NaN     NaN       0  \n",
       "\n",
       "[5 rows x 22 columns]"
      ]
     },
     "execution_count": 12,
     "metadata": {},
     "output_type": "execute_result"
    }
   ],
   "source": [
    "df.head()"
   ]
  },
  {
   "cell_type": "code",
   "execution_count": 13,
   "metadata": {},
   "outputs": [
    {
     "data": {
      "text/html": [
       "<div>\n",
       "<style scoped>\n",
       "    .dataframe tbody tr th:only-of-type {\n",
       "        vertical-align: middle;\n",
       "    }\n",
       "\n",
       "    .dataframe tbody tr th {\n",
       "        vertical-align: top;\n",
       "    }\n",
       "\n",
       "    .dataframe thead th {\n",
       "        text-align: right;\n",
       "    }\n",
       "</style>\n",
       "<table border=\"1\" class=\"dataframe\">\n",
       "  <thead>\n",
       "    <tr style=\"text-align: right;\">\n",
       "      <th></th>\n",
       "      <th>کارکرد</th>\n",
       "      <th>مدل (سال تولید)</th>\n",
       "      <th>رنگ</th>\n",
       "      <th>برند و تیپ</th>\n",
       "      <th>وضعیت موتور</th>\n",
       "      <th>وضعیت شاسی‌ها</th>\n",
       "      <th>وضعیت بدنه</th>\n",
       "      <th>مهلت بیمهٔ شخص ثالث</th>\n",
       "      <th>گیربکس</th>\n",
       "      <th>قیمت فروش نقدی</th>\n",
       "      <th>دور رنگ</th>\n",
       "    </tr>\n",
       "  </thead>\n",
       "  <tbody>\n",
       "    <tr>\n",
       "      <th>0</th>\n",
       "      <td>242000</td>\n",
       "      <td>1385</td>\n",
       "      <td>مشکی</td>\n",
       "      <td>پراید، صندوق‌دار، بنزینی</td>\n",
       "      <td>سالم</td>\n",
       "      <td>سالم و پلمپ</td>\n",
       "      <td>خط و خش جزیی</td>\n",
       "      <td>1.0</td>\n",
       "      <td>دنده‌ای</td>\n",
       "      <td>93000000.0</td>\n",
       "      <td>0</td>\n",
       "    </tr>\n",
       "    <tr>\n",
       "      <th>1</th>\n",
       "      <td>200</td>\n",
       "      <td>1392</td>\n",
       "      <td>نقره‌ای</td>\n",
       "      <td>بایک، سابرینا، هاچبک</td>\n",
       "      <td>سالم</td>\n",
       "      <td>سالم و پلمپ</td>\n",
       "      <td>خط و خش جزیی</td>\n",
       "      <td>10.0</td>\n",
       "      <td>اتوماتیک</td>\n",
       "      <td>325000000.0</td>\n",
       "      <td>1</td>\n",
       "    </tr>\n",
       "  </tbody>\n",
       "</table>\n",
       "</div>"
      ],
      "text/plain": [
       "   کارکرد  مدل (سال تولید)      رنگ                برند و تیپ وضعیت موتور  \\\n",
       "0  242000             1385     مشکی  پراید، صندوق‌دار، بنزینی        سالم   \n",
       "1     200             1392  نقره‌ای      بایک، سابرینا، هاچبک        سالم   \n",
       "\n",
       "  وضعیت شاسی‌ها    وضعیت بدنه  مهلت بیمهٔ شخص ثالث    گیربکس  قیمت فروش نقدی  \\\n",
       "0   سالم و پلمپ  خط و خش جزیی                  1.0   دنده‌ای      93000000.0   \n",
       "1   سالم و پلمپ  خط و خش جزیی                 10.0  اتوماتیک     325000000.0   \n",
       "\n",
       "   دور رنگ  \n",
       "0        0  \n",
       "1        1  "
      ]
     },
     "execution_count": 13,
     "metadata": {},
     "output_type": "execute_result"
    }
   ],
   "source": [
    "data = df.copy().drop(['token', 'description', 'نوع سوخت', 'وضعیت شاسی جلو', 'وضعیت شاسی عقب',\\\n",
    "     'نمایشگاه', 'حداقل مبلغ پیش‌پرداخت', 'نحوهٔ فروش', 'تعداد اقساط', 'مبلغ قسط', 'فروشنده'], axis = 1)\n",
    "data.head(2)"
   ]
  },
  {
   "cell_type": "code",
   "execution_count": 14,
   "metadata": {},
   "outputs": [],
   "source": [
    "brands = data.groupby('برند و تیپ', as_index=False)['کارکرد'].count()\n",
    "brands.columns = ['brand', 'count']\n",
    "brands.sort_values(by='count', inplace=True)\n",
    "brands = brands[brands['count'] > 5]"
   ]
  },
  {
   "cell_type": "code",
   "execution_count": 15,
   "metadata": {},
   "outputs": [],
   "source": [
    "data = data[data['برند و تیپ'].isin(brands['brand'])]"
   ]
  },
  {
   "cell_type": "code",
   "execution_count": 16,
   "metadata": {},
   "outputs": [
    {
     "data": {
      "text/plain": [
       "['آبی',\n",
       " 'خاکستری',\n",
       " 'سفید',\n",
       " 'سفید صدفی',\n",
       " 'مشکی',\n",
       " 'نقره\\u200cای',\n",
       " 'نوک\\u200cمدادی']"
      ]
     },
     "execution_count": 16,
     "metadata": {},
     "output_type": "execute_result"
    }
   ],
   "source": [
    "clr = data.groupby('رنگ', as_index=False)['قیمت فروش نقدی'].count()\n",
    "clr = clr[clr['قیمت فروش نقدی'] > data.shape[0] / 50]\n",
    "colors = list(clr['رنگ'].values)\n",
    "colors"
   ]
  },
  {
   "cell_type": "code",
   "execution_count": 17,
   "metadata": {},
   "outputs": [],
   "source": [
    "data['رنگ'] = data['رنگ'].apply(lambda x: x if x in colors else 'سایر')"
   ]
  },
  {
   "cell_type": "code",
   "execution_count": 18,
   "metadata": {},
   "outputs": [
    {
     "name": "stdout",
     "output_type": "stream",
     "text": [
      "['رنگ', 'برند و تیپ', 'وضعیت موتور', 'وضعیت شاسی\\u200cها', 'وضعیت بدنه', 'گیربکس']\n"
     ]
    }
   ],
   "source": [
    "categorical_cols = []\n",
    "for col in data.columns:\n",
    "    if data[col].dtypes == 'object':\n",
    "        categorical_cols.append(col)\n",
    "print(categorical_cols)"
   ]
  },
  {
   "cell_type": "code",
   "execution_count": 19,
   "metadata": {},
   "outputs": [
    {
     "data": {
      "text/html": [
       "<div>\n",
       "<style scoped>\n",
       "    .dataframe tbody tr th:only-of-type {\n",
       "        vertical-align: middle;\n",
       "    }\n",
       "\n",
       "    .dataframe tbody tr th {\n",
       "        vertical-align: top;\n",
       "    }\n",
       "\n",
       "    .dataframe thead th {\n",
       "        text-align: right;\n",
       "    }\n",
       "</style>\n",
       "<table border=\"1\" class=\"dataframe\">\n",
       "  <thead>\n",
       "    <tr style=\"text-align: right;\">\n",
       "      <th></th>\n",
       "      <th>کارکرد</th>\n",
       "      <th>مدل (سال تولید)</th>\n",
       "      <th>رنگ</th>\n",
       "      <th>برند و تیپ</th>\n",
       "      <th>وضعیت موتور</th>\n",
       "      <th>وضعیت شاسی‌ها</th>\n",
       "      <th>وضعیت بدنه</th>\n",
       "      <th>مهلت بیمهٔ شخص ثالث</th>\n",
       "      <th>گیربکس</th>\n",
       "      <th>قیمت فروش نقدی</th>\n",
       "      <th>...</th>\n",
       "      <th>وضعیت بدنه_رنگ‌شدگی، در ۲ ناحیه</th>\n",
       "      <th>وضعیت بدنه_سالم و بی‌خط و خش</th>\n",
       "      <th>وضعیت بدنه_صافکاری بی‌رنگ</th>\n",
       "      <th>وضعیت بدنه_صافکاری بی‌رنگ، در ۱ ناحیه</th>\n",
       "      <th>وضعیت بدنه_صافکاری بی‌رنگ، در ۲ ناحیه</th>\n",
       "      <th>وضعیت بدنه_صافکاری بی‌رنگ، در ۳ ناحیه</th>\n",
       "      <th>وضعیت بدنه_صافکاری بی‌رنگ، در ۴ ناحیه</th>\n",
       "      <th>وضعیت بدنه_صافکاری بی‌رنگ، در ۵ ناحیه</th>\n",
       "      <th>وضعیت بدنه_صافکاری بی‌رنگ، در ۶ ناحیه</th>\n",
       "      <th>گیربکس_دنده‌ای</th>\n",
       "    </tr>\n",
       "  </thead>\n",
       "  <tbody>\n",
       "    <tr>\n",
       "      <th>0</th>\n",
       "      <td>242000</td>\n",
       "      <td>1385</td>\n",
       "      <td>مشکی</td>\n",
       "      <td>پراید، صندوق‌دار، بنزینی</td>\n",
       "      <td>سالم</td>\n",
       "      <td>سالم و پلمپ</td>\n",
       "      <td>خط و خش جزیی</td>\n",
       "      <td>1.0</td>\n",
       "      <td>دنده‌ای</td>\n",
       "      <td>93000000.0</td>\n",
       "      <td>...</td>\n",
       "      <td>0</td>\n",
       "      <td>0</td>\n",
       "      <td>0</td>\n",
       "      <td>0</td>\n",
       "      <td>0</td>\n",
       "      <td>0</td>\n",
       "      <td>0</td>\n",
       "      <td>0</td>\n",
       "      <td>0</td>\n",
       "      <td>1</td>\n",
       "    </tr>\n",
       "    <tr>\n",
       "      <th>2</th>\n",
       "      <td>89000</td>\n",
       "      <td>1394</td>\n",
       "      <td>سفید</td>\n",
       "      <td>آریو، اتوماتیک 1600cc</td>\n",
       "      <td>سالم</td>\n",
       "      <td>سالم و پلمپ</td>\n",
       "      <td>سالم و بی‌خط و خش</td>\n",
       "      <td>6.0</td>\n",
       "      <td>اتوماتیک</td>\n",
       "      <td>430000000.0</td>\n",
       "      <td>...</td>\n",
       "      <td>0</td>\n",
       "      <td>1</td>\n",
       "      <td>0</td>\n",
       "      <td>0</td>\n",
       "      <td>0</td>\n",
       "      <td>0</td>\n",
       "      <td>0</td>\n",
       "      <td>0</td>\n",
       "      <td>0</td>\n",
       "      <td>0</td>\n",
       "    </tr>\n",
       "    <tr>\n",
       "      <th>3</th>\n",
       "      <td>48000</td>\n",
       "      <td>1397</td>\n",
       "      <td>سفید</td>\n",
       "      <td>دانگ فنگ، H30 کراس</td>\n",
       "      <td>سالم</td>\n",
       "      <td>NaN</td>\n",
       "      <td>رنگ‌شدگی در ۱ ناحیه</td>\n",
       "      <td>12.0</td>\n",
       "      <td>اتوماتیک</td>\n",
       "      <td>465000000.0</td>\n",
       "      <td>...</td>\n",
       "      <td>0</td>\n",
       "      <td>0</td>\n",
       "      <td>0</td>\n",
       "      <td>0</td>\n",
       "      <td>0</td>\n",
       "      <td>0</td>\n",
       "      <td>0</td>\n",
       "      <td>0</td>\n",
       "      <td>0</td>\n",
       "      <td>0</td>\n",
       "    </tr>\n",
       "    <tr>\n",
       "      <th>4</th>\n",
       "      <td>60000</td>\n",
       "      <td>1389</td>\n",
       "      <td>سایر</td>\n",
       "      <td>پژو، 405، SLX بنزینی</td>\n",
       "      <td>سالم</td>\n",
       "      <td>سالم و پلمپ</td>\n",
       "      <td>دوررنگ</td>\n",
       "      <td>10.0</td>\n",
       "      <td>دنده‌ای</td>\n",
       "      <td>160000000.0</td>\n",
       "      <td>...</td>\n",
       "      <td>0</td>\n",
       "      <td>0</td>\n",
       "      <td>0</td>\n",
       "      <td>0</td>\n",
       "      <td>0</td>\n",
       "      <td>0</td>\n",
       "      <td>0</td>\n",
       "      <td>0</td>\n",
       "      <td>0</td>\n",
       "      <td>1</td>\n",
       "    </tr>\n",
       "    <tr>\n",
       "      <th>5</th>\n",
       "      <td>8000</td>\n",
       "      <td>1401</td>\n",
       "      <td>سفید</td>\n",
       "      <td>پراید، وانت 151، SE</td>\n",
       "      <td>سالم</td>\n",
       "      <td>سالم و پلمپ</td>\n",
       "      <td>سالم و بی‌خط و خش</td>\n",
       "      <td>8.0</td>\n",
       "      <td>دنده‌ای</td>\n",
       "      <td>239000000.0</td>\n",
       "      <td>...</td>\n",
       "      <td>0</td>\n",
       "      <td>1</td>\n",
       "      <td>0</td>\n",
       "      <td>0</td>\n",
       "      <td>0</td>\n",
       "      <td>0</td>\n",
       "      <td>0</td>\n",
       "      <td>0</td>\n",
       "      <td>0</td>\n",
       "      <td>1</td>\n",
       "    </tr>\n",
       "  </tbody>\n",
       "</table>\n",
       "<p>5 rows × 242 columns</p>\n",
       "</div>"
      ],
      "text/plain": [
       "   کارکرد  مدل (سال تولید)   رنگ                برند و تیپ وضعیت موتور  \\\n",
       "0  242000             1385  مشکی  پراید، صندوق‌دار، بنزینی        سالم   \n",
       "2   89000             1394  سفید     آریو، اتوماتیک 1600cc        سالم   \n",
       "3   48000             1397  سفید        دانگ فنگ، H30 کراس        سالم   \n",
       "4   60000             1389  سایر      پژو، 405، SLX بنزینی        سالم   \n",
       "5    8000             1401  سفید       پراید، وانت 151، SE        سالم   \n",
       "\n",
       "  وضعیت شاسی‌ها           وضعیت بدنه  مهلت بیمهٔ شخص ثالث    گیربکس  \\\n",
       "0   سالم و پلمپ         خط و خش جزیی                  1.0   دنده‌ای   \n",
       "2   سالم و پلمپ    سالم و بی‌خط و خش                  6.0  اتوماتیک   \n",
       "3           NaN  رنگ‌شدگی در ۱ ناحیه                 12.0  اتوماتیک   \n",
       "4   سالم و پلمپ               دوررنگ                 10.0   دنده‌ای   \n",
       "5   سالم و پلمپ    سالم و بی‌خط و خش                  8.0   دنده‌ای   \n",
       "\n",
       "   قیمت فروش نقدی  ...  وضعیت بدنه_رنگ‌شدگی، در ۲ ناحیه  \\\n",
       "0      93000000.0  ...                                0   \n",
       "2     430000000.0  ...                                0   \n",
       "3     465000000.0  ...                                0   \n",
       "4     160000000.0  ...                                0   \n",
       "5     239000000.0  ...                                0   \n",
       "\n",
       "   وضعیت بدنه_سالم و بی‌خط و خش  وضعیت بدنه_صافکاری بی‌رنگ  \\\n",
       "0                             0                          0   \n",
       "2                             1                          0   \n",
       "3                             0                          0   \n",
       "4                             0                          0   \n",
       "5                             1                          0   \n",
       "\n",
       "   وضعیت بدنه_صافکاری بی‌رنگ، در ۱ ناحیه  \\\n",
       "0                                      0   \n",
       "2                                      0   \n",
       "3                                      0   \n",
       "4                                      0   \n",
       "5                                      0   \n",
       "\n",
       "   وضعیت بدنه_صافکاری بی‌رنگ، در ۲ ناحیه  \\\n",
       "0                                      0   \n",
       "2                                      0   \n",
       "3                                      0   \n",
       "4                                      0   \n",
       "5                                      0   \n",
       "\n",
       "   وضعیت بدنه_صافکاری بی‌رنگ، در ۳ ناحیه  \\\n",
       "0                                      0   \n",
       "2                                      0   \n",
       "3                                      0   \n",
       "4                                      0   \n",
       "5                                      0   \n",
       "\n",
       "   وضعیت بدنه_صافکاری بی‌رنگ، در ۴ ناحیه  \\\n",
       "0                                      0   \n",
       "2                                      0   \n",
       "3                                      0   \n",
       "4                                      0   \n",
       "5                                      0   \n",
       "\n",
       "   وضعیت بدنه_صافکاری بی‌رنگ، در ۵ ناحیه  \\\n",
       "0                                      0   \n",
       "2                                      0   \n",
       "3                                      0   \n",
       "4                                      0   \n",
       "5                                      0   \n",
       "\n",
       "   وضعیت بدنه_صافکاری بی‌رنگ، در ۶ ناحیه  گیربکس_دنده‌ای  \n",
       "0                                      0               1  \n",
       "2                                      0               0  \n",
       "3                                      0               0  \n",
       "4                                      0               1  \n",
       "5                                      0               1  \n",
       "\n",
       "[5 rows x 242 columns]"
      ]
     },
     "execution_count": 19,
     "metadata": {},
     "output_type": "execute_result"
    }
   ],
   "source": [
    "data = pd.concat([data, pd.get_dummies(data[categorical_cols], drop_first=True)], axis=1)\n",
    "data.head()"
   ]
  },
  {
   "cell_type": "code",
   "execution_count": 20,
   "metadata": {},
   "outputs": [
    {
     "name": "stdout",
     "output_type": "stream",
     "text": [
      "رنگ 36\n",
      "برند و تیپ 361\n",
      "وضعیت موتور 3\n",
      "وضعیت شاسی‌ها 3\n",
      "وضعیت بدنه 26\n",
      "گیربکس 2\n"
     ]
    }
   ],
   "source": [
    "for col in categorical_cols:\n",
    "    print(col, df[col].nunique())"
   ]
  },
  {
   "cell_type": "code",
   "execution_count": 21,
   "metadata": {},
   "outputs": [],
   "source": [
    "X = data.dropna().iloc[:, data.columns!='قیمت فروش نقدی']\n",
    "y = data.dropna().iloc[:, data.columns=='قیمت فروش نقدی']"
   ]
  },
  {
   "cell_type": "code",
   "execution_count": 22,
   "metadata": {},
   "outputs": [],
   "source": [
    "X_train, X_test, y_train, y_test = train_test_split(X, y, test_size=0.3, random_state=4)#, stratify=X['برند و تیپ'])\n",
    "\n",
    "X_train.drop(categorical_cols, axis=1, inplace=True)\n",
    "X_test.drop(categorical_cols, axis=1, inplace=True)"
   ]
  },
  {
   "cell_type": "code",
   "execution_count": 23,
   "metadata": {},
   "outputs": [],
   "source": [
    "sc = StandardScaler()\n",
    "X_train = sc.fit_transform(X_train)\n",
    "X_test = sc.transform(X_test)"
   ]
  },
  {
   "cell_type": "markdown",
   "metadata": {},
   "source": [
    "## Linear Regression"
   ]
  },
  {
   "cell_type": "code",
   "execution_count": 24,
   "metadata": {},
   "outputs": [],
   "source": [
    "regressor_lr = LinearRegression()\n",
    "regressor_lr.fit(X_train, y_train)\n",
    "pred_lr = regressor_lr.predict(X_test)"
   ]
  },
  {
   "cell_type": "code",
   "execution_count": 25,
   "metadata": {},
   "outputs": [],
   "source": [
    "scores_lr = cross_validate(regressor_lr,\\\n",
    " X_train, X_train, cv=5,\\\n",
    "  scoring=('r2', 'neg_root_mean_squared_error', 'neg_mean_absolute_error'))"
   ]
  },
  {
   "cell_type": "code",
   "execution_count": 26,
   "metadata": {},
   "outputs": [
    {
     "data": {
      "text/html": [
       "<div>\n",
       "<style scoped>\n",
       "    .dataframe tbody tr th:only-of-type {\n",
       "        vertical-align: middle;\n",
       "    }\n",
       "\n",
       "    .dataframe tbody tr th {\n",
       "        vertical-align: top;\n",
       "    }\n",
       "\n",
       "    .dataframe thead th {\n",
       "        text-align: right;\n",
       "    }\n",
       "</style>\n",
       "<table border=\"1\" class=\"dataframe\">\n",
       "  <thead>\n",
       "    <tr style=\"text-align: right;\">\n",
       "      <th></th>\n",
       "      <th>fit_time</th>\n",
       "      <th>score_time</th>\n",
       "      <th>test_r2</th>\n",
       "      <th>test_neg_root_mean_squared_error</th>\n",
       "      <th>test_neg_mean_absolute_error</th>\n",
       "    </tr>\n",
       "  </thead>\n",
       "  <tbody>\n",
       "    <tr>\n",
       "      <th>0</th>\n",
       "      <td>0.79</td>\n",
       "      <td>0.06</td>\n",
       "      <td>-3.820000e+00</td>\n",
       "      <td>0.00</td>\n",
       "      <td>0.00</td>\n",
       "    </tr>\n",
       "    <tr>\n",
       "      <th>1</th>\n",
       "      <td>0.57</td>\n",
       "      <td>0.06</td>\n",
       "      <td>-1.962510e+28</td>\n",
       "      <td>0.09</td>\n",
       "      <td>0.00</td>\n",
       "    </tr>\n",
       "    <tr>\n",
       "      <th>2</th>\n",
       "      <td>0.57</td>\n",
       "      <td>0.07</td>\n",
       "      <td>-2.150000e+00</td>\n",
       "      <td>0.00</td>\n",
       "      <td>0.00</td>\n",
       "    </tr>\n",
       "    <tr>\n",
       "      <th>3</th>\n",
       "      <td>0.53</td>\n",
       "      <td>0.05</td>\n",
       "      <td>-2.865822e+26</td>\n",
       "      <td>0.04</td>\n",
       "      <td>0.00</td>\n",
       "    </tr>\n",
       "    <tr>\n",
       "      <th>4</th>\n",
       "      <td>0.55</td>\n",
       "      <td>0.05</td>\n",
       "      <td>-2.627737e+28</td>\n",
       "      <td>0.12</td>\n",
       "      <td>0.01</td>\n",
       "    </tr>\n",
       "  </tbody>\n",
       "</table>\n",
       "</div>"
      ],
      "text/plain": [
       "   fit_time  score_time       test_r2  test_neg_root_mean_squared_error  \\\n",
       "0      0.79        0.06 -3.820000e+00                              0.00   \n",
       "1      0.57        0.06 -1.962510e+28                              0.09   \n",
       "2      0.57        0.07 -2.150000e+00                              0.00   \n",
       "3      0.53        0.05 -2.865822e+26                              0.04   \n",
       "4      0.55        0.05 -2.627737e+28                              0.12   \n",
       "\n",
       "   test_neg_mean_absolute_error  \n",
       "0                          0.00  \n",
       "1                          0.00  \n",
       "2                          0.00  \n",
       "3                          0.00  \n",
       "4                          0.01  "
      ]
     },
     "execution_count": 26,
     "metadata": {},
     "output_type": "execute_result"
    }
   ],
   "source": [
    "df_scores_lr = pd.DataFrame(scores_lr)\n",
    "df_scores_lr['test_neg_root_mean_squared_error'] = df_scores_lr['test_neg_root_mean_squared_error'] * -1\n",
    "df_scores_lr['test_neg_mean_absolute_error'] = df_scores_lr['test_neg_mean_absolute_error'] * -1\n",
    "df_scores_lr.round(2)"
   ]
  },
  {
   "cell_type": "code",
   "execution_count": 27,
   "metadata": {},
   "outputs": [
    {
     "name": "stdout",
     "output_type": "stream",
     "text": [
      "MAE =  20137597.694201406\n",
      "MSE =  1100708630588265.2\n",
      "RMSE =  33176929.191657647\n",
      "R2 =  0.9328840731657161\n"
     ]
    }
   ],
   "source": [
    "print('MAE = ', metrics.mean_absolute_error(y_test, pred_lr))\n",
    "print('MSE = ', metrics.mean_squared_error(y_test, pred_lr))\n",
    "print('RMSE = ', np.sqrt(metrics.mean_squared_error(y_test, pred_lr)))\n",
    "print('R2 = ', metrics.r2_score(y_test, pred_lr))"
   ]
  },
  {
   "attachments": {},
   "cell_type": "markdown",
   "metadata": {},
   "source": [
    "## Ridge Regression"
   ]
  },
  {
   "cell_type": "code",
   "execution_count": 28,
   "metadata": {},
   "outputs": [],
   "source": [
    "regressor_rg = Ridge()\n",
    "regressor_rg.fit(X_train, y_train)\n",
    "pred_rg = regressor_rg.predict(X_test)"
   ]
  },
  {
   "cell_type": "code",
   "execution_count": 29,
   "metadata": {},
   "outputs": [],
   "source": [
    "scores_rg = cross_validate(regressor_rg,\\\n",
    " X_train, y_train, cv=5,\\\n",
    "  scoring=('r2', 'neg_root_mean_squared_error', 'neg_mean_absolute_error'))"
   ]
  },
  {
   "cell_type": "code",
   "execution_count": 30,
   "metadata": {},
   "outputs": [
    {
     "data": {
      "text/html": [
       "<div>\n",
       "<style scoped>\n",
       "    .dataframe tbody tr th:only-of-type {\n",
       "        vertical-align: middle;\n",
       "    }\n",
       "\n",
       "    .dataframe tbody tr th {\n",
       "        vertical-align: top;\n",
       "    }\n",
       "\n",
       "    .dataframe thead th {\n",
       "        text-align: right;\n",
       "    }\n",
       "</style>\n",
       "<table border=\"1\" class=\"dataframe\">\n",
       "  <thead>\n",
       "    <tr style=\"text-align: right;\">\n",
       "      <th></th>\n",
       "      <th>fit_time</th>\n",
       "      <th>score_time</th>\n",
       "      <th>test_r2</th>\n",
       "      <th>test_neg_root_mean_squared_error</th>\n",
       "      <th>test_neg_mean_absolute_error</th>\n",
       "    </tr>\n",
       "  </thead>\n",
       "  <tbody>\n",
       "    <tr>\n",
       "      <th>0</th>\n",
       "      <td>0.08</td>\n",
       "      <td>0.01</td>\n",
       "      <td>0.94</td>\n",
       "      <td>31775603.39</td>\n",
       "      <td>19690510.65</td>\n",
       "    </tr>\n",
       "    <tr>\n",
       "      <th>1</th>\n",
       "      <td>0.06</td>\n",
       "      <td>0.01</td>\n",
       "      <td>0.92</td>\n",
       "      <td>34762885.99</td>\n",
       "      <td>20145050.42</td>\n",
       "    </tr>\n",
       "    <tr>\n",
       "      <th>2</th>\n",
       "      <td>0.06</td>\n",
       "      <td>0.01</td>\n",
       "      <td>0.93</td>\n",
       "      <td>33279917.79</td>\n",
       "      <td>19811813.68</td>\n",
       "    </tr>\n",
       "    <tr>\n",
       "      <th>3</th>\n",
       "      <td>0.13</td>\n",
       "      <td>0.01</td>\n",
       "      <td>0.93</td>\n",
       "      <td>33297343.39</td>\n",
       "      <td>19304724.10</td>\n",
       "    </tr>\n",
       "    <tr>\n",
       "      <th>4</th>\n",
       "      <td>0.11</td>\n",
       "      <td>0.01</td>\n",
       "      <td>0.93</td>\n",
       "      <td>33578719.11</td>\n",
       "      <td>20913540.10</td>\n",
       "    </tr>\n",
       "  </tbody>\n",
       "</table>\n",
       "</div>"
      ],
      "text/plain": [
       "   fit_time  score_time  test_r2  test_neg_root_mean_squared_error  \\\n",
       "0      0.08        0.01     0.94                       31775603.39   \n",
       "1      0.06        0.01     0.92                       34762885.99   \n",
       "2      0.06        0.01     0.93                       33279917.79   \n",
       "3      0.13        0.01     0.93                       33297343.39   \n",
       "4      0.11        0.01     0.93                       33578719.11   \n",
       "\n",
       "   test_neg_mean_absolute_error  \n",
       "0                   19690510.65  \n",
       "1                   20145050.42  \n",
       "2                   19811813.68  \n",
       "3                   19304724.10  \n",
       "4                   20913540.10  "
      ]
     },
     "execution_count": 30,
     "metadata": {},
     "output_type": "execute_result"
    }
   ],
   "source": [
    "df_scores_rg = pd.DataFrame(scores_rg)\n",
    "df_scores_rg['test_neg_root_mean_squared_error'] = df_scores_rg['test_neg_root_mean_squared_error'] * -1\n",
    "df_scores_rg['test_neg_mean_absolute_error'] = df_scores_rg['test_neg_mean_absolute_error'] * -1\n",
    "df_scores_rg.round(2)"
   ]
  },
  {
   "cell_type": "code",
   "execution_count": 31,
   "metadata": {},
   "outputs": [
    {
     "name": "stdout",
     "output_type": "stream",
     "text": [
      "MAE =  20079134.3868153\n",
      "MSE =  1071725706511013.1\n",
      "RMSE =  32737222.034116045\n",
      "R2 =  0.9346513127037334\n"
     ]
    }
   ],
   "source": [
    "print('MAE = ', metrics.mean_absolute_error(y_test, pred_rg))\n",
    "print('MSE = ', metrics.mean_squared_error(y_test, pred_rg))\n",
    "print('RMSE = ', np.sqrt(metrics.mean_squared_error(y_test, pred_rg)))\n",
    "print('R2 = ', metrics.r2_score(y_test, pred_rg))"
   ]
  },
  {
   "attachments": {},
   "cell_type": "markdown",
   "metadata": {},
   "source": [
    "## KNN"
   ]
  },
  {
   "cell_type": "code",
   "execution_count": 32,
   "metadata": {},
   "outputs": [
    {
     "data": {
      "text/plain": [
       "{'n_neighbors': 4}"
      ]
     },
     "execution_count": 32,
     "metadata": {},
     "output_type": "execute_result"
    }
   ],
   "source": [
    "KNN = GridSearchCV(KNeighborsRegressor(), param_grid = {'n_neighbors': [2, 3, 4, 5, 6, 7, 8]}, cv = 5, n_jobs = -1)\n",
    "\n",
    "KNN.fit(X_train, y_train)\n",
    "KNN.best_params_"
   ]
  },
  {
   "cell_type": "code",
   "execution_count": 33,
   "metadata": {},
   "outputs": [],
   "source": [
    "scores_knn = cross_validate(KNN.best_estimator_,\\\n",
    " X_train, y_train, cv=5,\\\n",
    "  scoring=('r2', 'neg_root_mean_squared_error', 'neg_mean_absolute_error'))"
   ]
  },
  {
   "cell_type": "code",
   "execution_count": 34,
   "metadata": {},
   "outputs": [
    {
     "data": {
      "text/html": [
       "<div>\n",
       "<style scoped>\n",
       "    .dataframe tbody tr th:only-of-type {\n",
       "        vertical-align: middle;\n",
       "    }\n",
       "\n",
       "    .dataframe tbody tr th {\n",
       "        vertical-align: top;\n",
       "    }\n",
       "\n",
       "    .dataframe thead th {\n",
       "        text-align: right;\n",
       "    }\n",
       "</style>\n",
       "<table border=\"1\" class=\"dataframe\">\n",
       "  <thead>\n",
       "    <tr style=\"text-align: right;\">\n",
       "      <th></th>\n",
       "      <th>fit_time</th>\n",
       "      <th>score_time</th>\n",
       "      <th>test_r2</th>\n",
       "      <th>test_neg_root_mean_squared_error</th>\n",
       "      <th>test_neg_mean_absolute_error</th>\n",
       "    </tr>\n",
       "  </thead>\n",
       "  <tbody>\n",
       "    <tr>\n",
       "      <th>0</th>\n",
       "      <td>0.03</td>\n",
       "      <td>0.31</td>\n",
       "      <td>0.86</td>\n",
       "      <td>46209354.49</td>\n",
       "      <td>29187191.56</td>\n",
       "    </tr>\n",
       "    <tr>\n",
       "      <th>1</th>\n",
       "      <td>0.02</td>\n",
       "      <td>0.14</td>\n",
       "      <td>0.87</td>\n",
       "      <td>45061353.59</td>\n",
       "      <td>28248697.65</td>\n",
       "    </tr>\n",
       "    <tr>\n",
       "      <th>2</th>\n",
       "      <td>0.03</td>\n",
       "      <td>0.17</td>\n",
       "      <td>0.88</td>\n",
       "      <td>43525741.64</td>\n",
       "      <td>27963849.70</td>\n",
       "    </tr>\n",
       "    <tr>\n",
       "      <th>3</th>\n",
       "      <td>0.03</td>\n",
       "      <td>0.18</td>\n",
       "      <td>0.86</td>\n",
       "      <td>46176760.53</td>\n",
       "      <td>29055635.86</td>\n",
       "    </tr>\n",
       "    <tr>\n",
       "      <th>4</th>\n",
       "      <td>0.03</td>\n",
       "      <td>0.18</td>\n",
       "      <td>0.86</td>\n",
       "      <td>46431685.28</td>\n",
       "      <td>30426781.38</td>\n",
       "    </tr>\n",
       "  </tbody>\n",
       "</table>\n",
       "</div>"
      ],
      "text/plain": [
       "   fit_time  score_time  test_r2  test_neg_root_mean_squared_error  \\\n",
       "0      0.03        0.31     0.86                       46209354.49   \n",
       "1      0.02        0.14     0.87                       45061353.59   \n",
       "2      0.03        0.17     0.88                       43525741.64   \n",
       "3      0.03        0.18     0.86                       46176760.53   \n",
       "4      0.03        0.18     0.86                       46431685.28   \n",
       "\n",
       "   test_neg_mean_absolute_error  \n",
       "0                   29187191.56  \n",
       "1                   28248697.65  \n",
       "2                   27963849.70  \n",
       "3                   29055635.86  \n",
       "4                   30426781.38  "
      ]
     },
     "execution_count": 34,
     "metadata": {},
     "output_type": "execute_result"
    }
   ],
   "source": [
    "df_scores_knn = pd.DataFrame(scores_knn)\n",
    "df_scores_knn['test_neg_root_mean_squared_error'] = df_scores_knn['test_neg_root_mean_squared_error'] * -1\n",
    "df_scores_knn['test_neg_mean_absolute_error'] = df_scores_knn['test_neg_mean_absolute_error'] * -1\n",
    "df_scores_knn.round(2)"
   ]
  },
  {
   "cell_type": "code",
   "execution_count": 35,
   "metadata": {},
   "outputs": [],
   "source": [
    "pred_knn = KNN.best_estimator_.predict(X_test)"
   ]
  },
  {
   "cell_type": "code",
   "execution_count": 36,
   "metadata": {},
   "outputs": [
    {
     "name": "stdout",
     "output_type": "stream",
     "text": [
      "MAE =  28130681.81404788\n",
      "MSE =  1965994085138804.2\n",
      "RMSE =  44339531.85520574\n",
      "R2 =  0.8801231211348897\n"
     ]
    }
   ],
   "source": [
    "print('MAE = ', metrics.mean_absolute_error(y_test, pred_knn))\n",
    "print('MSE = ', metrics.mean_squared_error(y_test, pred_knn))\n",
    "print('RMSE = ', np.sqrt(metrics.mean_squared_error(y_test, pred_knn)))\n",
    "print('R2 = ', metrics.r2_score(y_test, pred_knn))"
   ]
  },
  {
   "cell_type": "markdown",
   "metadata": {},
   "source": [
    "# SVR"
   ]
  },
  {
   "cell_type": "code",
   "execution_count": 37,
   "metadata": {},
   "outputs": [],
   "source": [
    "sc2 = StandardScaler()\n",
    "y_train_sc = sc2.fit_transform(pd.DataFrame(y_train))\n",
    "y_test_sc = sc2.transform(pd.DataFrame(y_test))"
   ]
  },
  {
   "cell_type": "code",
   "execution_count": 38,
   "metadata": {},
   "outputs": [
    {
     "data": {
      "text/html": [
       "<style>#sk-container-id-1 {color: black;background-color: white;}#sk-container-id-1 pre{padding: 0;}#sk-container-id-1 div.sk-toggleable {background-color: white;}#sk-container-id-1 label.sk-toggleable__label {cursor: pointer;display: block;width: 100%;margin-bottom: 0;padding: 0.3em;box-sizing: border-box;text-align: center;}#sk-container-id-1 label.sk-toggleable__label-arrow:before {content: \"▸\";float: left;margin-right: 0.25em;color: #696969;}#sk-container-id-1 label.sk-toggleable__label-arrow:hover:before {color: black;}#sk-container-id-1 div.sk-estimator:hover label.sk-toggleable__label-arrow:before {color: black;}#sk-container-id-1 div.sk-toggleable__content {max-height: 0;max-width: 0;overflow: hidden;text-align: left;background-color: #f0f8ff;}#sk-container-id-1 div.sk-toggleable__content pre {margin: 0.2em;color: black;border-radius: 0.25em;background-color: #f0f8ff;}#sk-container-id-1 input.sk-toggleable__control:checked~div.sk-toggleable__content {max-height: 200px;max-width: 100%;overflow: auto;}#sk-container-id-1 input.sk-toggleable__control:checked~label.sk-toggleable__label-arrow:before {content: \"▾\";}#sk-container-id-1 div.sk-estimator input.sk-toggleable__control:checked~label.sk-toggleable__label {background-color: #d4ebff;}#sk-container-id-1 div.sk-label input.sk-toggleable__control:checked~label.sk-toggleable__label {background-color: #d4ebff;}#sk-container-id-1 input.sk-hidden--visually {border: 0;clip: rect(1px 1px 1px 1px);clip: rect(1px, 1px, 1px, 1px);height: 1px;margin: -1px;overflow: hidden;padding: 0;position: absolute;width: 1px;}#sk-container-id-1 div.sk-estimator {font-family: monospace;background-color: #f0f8ff;border: 1px dotted black;border-radius: 0.25em;box-sizing: border-box;margin-bottom: 0.5em;}#sk-container-id-1 div.sk-estimator:hover {background-color: #d4ebff;}#sk-container-id-1 div.sk-parallel-item::after {content: \"\";width: 100%;border-bottom: 1px solid gray;flex-grow: 1;}#sk-container-id-1 div.sk-label:hover label.sk-toggleable__label {background-color: #d4ebff;}#sk-container-id-1 div.sk-serial::before {content: \"\";position: absolute;border-left: 1px solid gray;box-sizing: border-box;top: 0;bottom: 0;left: 50%;z-index: 0;}#sk-container-id-1 div.sk-serial {display: flex;flex-direction: column;align-items: center;background-color: white;padding-right: 0.2em;padding-left: 0.2em;position: relative;}#sk-container-id-1 div.sk-item {position: relative;z-index: 1;}#sk-container-id-1 div.sk-parallel {display: flex;align-items: stretch;justify-content: center;background-color: white;position: relative;}#sk-container-id-1 div.sk-item::before, #sk-container-id-1 div.sk-parallel-item::before {content: \"\";position: absolute;border-left: 1px solid gray;box-sizing: border-box;top: 0;bottom: 0;left: 50%;z-index: -1;}#sk-container-id-1 div.sk-parallel-item {display: flex;flex-direction: column;z-index: 1;position: relative;background-color: white;}#sk-container-id-1 div.sk-parallel-item:first-child::after {align-self: flex-end;width: 50%;}#sk-container-id-1 div.sk-parallel-item:last-child::after {align-self: flex-start;width: 50%;}#sk-container-id-1 div.sk-parallel-item:only-child::after {width: 0;}#sk-container-id-1 div.sk-dashed-wrapped {border: 1px dashed gray;margin: 0 0.4em 0.5em 0.4em;box-sizing: border-box;padding-bottom: 0.4em;background-color: white;}#sk-container-id-1 div.sk-label label {font-family: monospace;font-weight: bold;display: inline-block;line-height: 1.2em;}#sk-container-id-1 div.sk-label-container {text-align: center;}#sk-container-id-1 div.sk-container {/* jupyter's `normalize.less` sets `[hidden] { display: none; }` but bootstrap.min.css set `[hidden] { display: none !important; }` so we also need the `!important` here to be able to override the default hidden behavior on the sphinx rendered scikit-learn.org. See: https://github.com/scikit-learn/scikit-learn/issues/21755 */display: inline-block !important;position: relative;}#sk-container-id-1 div.sk-text-repr-fallback {display: none;}</style><div id=\"sk-container-id-1\" class=\"sk-top-container\"><div class=\"sk-text-repr-fallback\"><pre>SVR()</pre><b>In a Jupyter environment, please rerun this cell to show the HTML representation or trust the notebook. <br />On GitHub, the HTML representation is unable to render, please try loading this page with nbviewer.org.</b></div><div class=\"sk-container\" hidden><div class=\"sk-item\"><div class=\"sk-estimator sk-toggleable\"><input class=\"sk-toggleable__control sk-hidden--visually\" id=\"sk-estimator-id-1\" type=\"checkbox\" checked><label for=\"sk-estimator-id-1\" class=\"sk-toggleable__label sk-toggleable__label-arrow\">SVR</label><div class=\"sk-toggleable__content\"><pre>SVR()</pre></div></div></div></div></div>"
      ],
      "text/plain": [
       "SVR()"
      ]
     },
     "execution_count": 38,
     "metadata": {},
     "output_type": "execute_result"
    }
   ],
   "source": [
    "regressor_sv = SVR()\n",
    "regressor_sv.fit(X_train, y_train_sc.ravel())"
   ]
  },
  {
   "cell_type": "code",
   "execution_count": 39,
   "metadata": {},
   "outputs": [],
   "source": [
    "scores_sv = cross_validate(regressor_sv,\\\n",
    " X_train, y_train_sc.ravel(), cv=5,\\\n",
    "  scoring=('r2', 'neg_root_mean_squared_error', 'neg_mean_absolute_error'))"
   ]
  },
  {
   "cell_type": "code",
   "execution_count": 40,
   "metadata": {},
   "outputs": [
    {
     "data": {
      "text/html": [
       "<div>\n",
       "<style scoped>\n",
       "    .dataframe tbody tr th:only-of-type {\n",
       "        vertical-align: middle;\n",
       "    }\n",
       "\n",
       "    .dataframe tbody tr th {\n",
       "        vertical-align: top;\n",
       "    }\n",
       "\n",
       "    .dataframe thead th {\n",
       "        text-align: right;\n",
       "    }\n",
       "</style>\n",
       "<table border=\"1\" class=\"dataframe\">\n",
       "  <thead>\n",
       "    <tr style=\"text-align: right;\">\n",
       "      <th></th>\n",
       "      <th>fit_time</th>\n",
       "      <th>score_time</th>\n",
       "      <th>test_r2</th>\n",
       "      <th>test_neg_root_mean_squared_error</th>\n",
       "      <th>test_neg_mean_absolute_error</th>\n",
       "    </tr>\n",
       "  </thead>\n",
       "  <tbody>\n",
       "    <tr>\n",
       "      <th>0</th>\n",
       "      <td>8.53</td>\n",
       "      <td>2.08</td>\n",
       "      <td>0.92</td>\n",
       "      <td>3.592584e+08</td>\n",
       "      <td>3.443147e+08</td>\n",
       "    </tr>\n",
       "    <tr>\n",
       "      <th>1</th>\n",
       "      <td>6.68</td>\n",
       "      <td>2.08</td>\n",
       "      <td>0.91</td>\n",
       "      <td>3.602549e+08</td>\n",
       "      <td>3.441635e+08</td>\n",
       "    </tr>\n",
       "    <tr>\n",
       "      <th>2</th>\n",
       "      <td>7.10</td>\n",
       "      <td>2.50</td>\n",
       "      <td>0.92</td>\n",
       "      <td>3.585378e+08</td>\n",
       "      <td>3.436963e+08</td>\n",
       "    </tr>\n",
       "    <tr>\n",
       "      <th>3</th>\n",
       "      <td>7.16</td>\n",
       "      <td>2.39</td>\n",
       "      <td>0.91</td>\n",
       "      <td>3.599905e+08</td>\n",
       "      <td>3.440183e+08</td>\n",
       "    </tr>\n",
       "    <tr>\n",
       "      <th>4</th>\n",
       "      <td>8.23</td>\n",
       "      <td>2.77</td>\n",
       "      <td>0.92</td>\n",
       "      <td>3.590026e+08</td>\n",
       "      <td>3.442659e+08</td>\n",
       "    </tr>\n",
       "  </tbody>\n",
       "</table>\n",
       "</div>"
      ],
      "text/plain": [
       "   fit_time  score_time  test_r2  test_neg_root_mean_squared_error  \\\n",
       "0      8.53        2.08     0.92                      3.592584e+08   \n",
       "1      6.68        2.08     0.91                      3.602549e+08   \n",
       "2      7.10        2.50     0.92                      3.585378e+08   \n",
       "3      7.16        2.39     0.91                      3.599905e+08   \n",
       "4      8.23        2.77     0.92                      3.590026e+08   \n",
       "\n",
       "   test_neg_mean_absolute_error  \n",
       "0                  3.443147e+08  \n",
       "1                  3.441635e+08  \n",
       "2                  3.436963e+08  \n",
       "3                  3.440183e+08  \n",
       "4                  3.442659e+08  "
      ]
     },
     "execution_count": 40,
     "metadata": {},
     "output_type": "execute_result"
    }
   ],
   "source": [
    "df_scores_sv = pd.DataFrame(scores_sv)\n",
    "xsv = sc2.inverse_transform(df_scores_sv['test_neg_root_mean_squared_error'].values.reshape(1, -1) * -1).reshape(-1, 1)\n",
    "ysv = sc2.inverse_transform(df_scores_sv['test_neg_mean_absolute_error'].values.reshape(1, -1) * -1).reshape(-1, 1)\n",
    "df_scores_sv['test_neg_root_mean_squared_error'] = xsv\n",
    "df_scores_sv['test_neg_mean_absolute_error'] = ysv\n",
    "df_scores_sv.round(2)"
   ]
  },
  {
   "cell_type": "code",
   "execution_count": 41,
   "metadata": {},
   "outputs": [],
   "source": [
    "pred_sv = regressor_sv.predict(X_test)"
   ]
  },
  {
   "cell_type": "code",
   "execution_count": 42,
   "metadata": {},
   "outputs": [
    {
     "name": "stdout",
     "output_type": "stream",
     "text": [
      "MAE =  20960197.47325529\n",
      "MSE =  1302789269408458.5\n",
      "RMSE =  36094172.236089006\n",
      "R2 =  0.9205621661752776\n"
     ]
    }
   ],
   "source": [
    "print('MAE = ', metrics.mean_absolute_error(sc2.inverse_transform(y_test_sc), sc2.inverse_transform(pred_sv.reshape(-1, 1))))\n",
    "print('MSE = ', metrics.mean_squared_error(sc2.inverse_transform(y_test_sc), sc2.inverse_transform(pred_sv.reshape(-1, 1))))\n",
    "print('RMSE = ', np.sqrt(metrics.mean_squared_error(sc2.inverse_transform(y_test_sc), sc2.inverse_transform(pred_sv.reshape(-1, 1)))))\n",
    "print('R2 = ', metrics.r2_score(sc2.inverse_transform(y_test_sc), sc2.inverse_transform(pred_sv.reshape(-1, 1))))"
   ]
  },
  {
   "cell_type": "markdown",
   "metadata": {},
   "source": [
    "## Random Forest"
   ]
  },
  {
   "cell_type": "code",
   "execution_count": 43,
   "metadata": {},
   "outputs": [],
   "source": [
    "random_grid = {\n",
    "    'max_depth': [10, 20, 30, 40, 50, 60, 70, 80, 90, 100, None],\n",
    "    'min_samples_leaf': [1, 2, 4],\n",
    "    'min_samples_split': [2, 5, 10],\n",
    "    'n_estimators': [400, 600, 800, 1000]\n",
    "}"
   ]
  },
  {
   "cell_type": "code",
   "execution_count": 44,
   "metadata": {},
   "outputs": [
    {
     "name": "stdout",
     "output_type": "stream",
     "text": [
      "Fitting 5 folds for each of 5 candidates, totalling 25 fits\n"
     ]
    },
    {
     "data": {
      "text/html": [
       "<style>#sk-container-id-2 {color: black;background-color: white;}#sk-container-id-2 pre{padding: 0;}#sk-container-id-2 div.sk-toggleable {background-color: white;}#sk-container-id-2 label.sk-toggleable__label {cursor: pointer;display: block;width: 100%;margin-bottom: 0;padding: 0.3em;box-sizing: border-box;text-align: center;}#sk-container-id-2 label.sk-toggleable__label-arrow:before {content: \"▸\";float: left;margin-right: 0.25em;color: #696969;}#sk-container-id-2 label.sk-toggleable__label-arrow:hover:before {color: black;}#sk-container-id-2 div.sk-estimator:hover label.sk-toggleable__label-arrow:before {color: black;}#sk-container-id-2 div.sk-toggleable__content {max-height: 0;max-width: 0;overflow: hidden;text-align: left;background-color: #f0f8ff;}#sk-container-id-2 div.sk-toggleable__content pre {margin: 0.2em;color: black;border-radius: 0.25em;background-color: #f0f8ff;}#sk-container-id-2 input.sk-toggleable__control:checked~div.sk-toggleable__content {max-height: 200px;max-width: 100%;overflow: auto;}#sk-container-id-2 input.sk-toggleable__control:checked~label.sk-toggleable__label-arrow:before {content: \"▾\";}#sk-container-id-2 div.sk-estimator input.sk-toggleable__control:checked~label.sk-toggleable__label {background-color: #d4ebff;}#sk-container-id-2 div.sk-label input.sk-toggleable__control:checked~label.sk-toggleable__label {background-color: #d4ebff;}#sk-container-id-2 input.sk-hidden--visually {border: 0;clip: rect(1px 1px 1px 1px);clip: rect(1px, 1px, 1px, 1px);height: 1px;margin: -1px;overflow: hidden;padding: 0;position: absolute;width: 1px;}#sk-container-id-2 div.sk-estimator {font-family: monospace;background-color: #f0f8ff;border: 1px dotted black;border-radius: 0.25em;box-sizing: border-box;margin-bottom: 0.5em;}#sk-container-id-2 div.sk-estimator:hover {background-color: #d4ebff;}#sk-container-id-2 div.sk-parallel-item::after {content: \"\";width: 100%;border-bottom: 1px solid gray;flex-grow: 1;}#sk-container-id-2 div.sk-label:hover label.sk-toggleable__label {background-color: #d4ebff;}#sk-container-id-2 div.sk-serial::before {content: \"\";position: absolute;border-left: 1px solid gray;box-sizing: border-box;top: 0;bottom: 0;left: 50%;z-index: 0;}#sk-container-id-2 div.sk-serial {display: flex;flex-direction: column;align-items: center;background-color: white;padding-right: 0.2em;padding-left: 0.2em;position: relative;}#sk-container-id-2 div.sk-item {position: relative;z-index: 1;}#sk-container-id-2 div.sk-parallel {display: flex;align-items: stretch;justify-content: center;background-color: white;position: relative;}#sk-container-id-2 div.sk-item::before, #sk-container-id-2 div.sk-parallel-item::before {content: \"\";position: absolute;border-left: 1px solid gray;box-sizing: border-box;top: 0;bottom: 0;left: 50%;z-index: -1;}#sk-container-id-2 div.sk-parallel-item {display: flex;flex-direction: column;z-index: 1;position: relative;background-color: white;}#sk-container-id-2 div.sk-parallel-item:first-child::after {align-self: flex-end;width: 50%;}#sk-container-id-2 div.sk-parallel-item:last-child::after {align-self: flex-start;width: 50%;}#sk-container-id-2 div.sk-parallel-item:only-child::after {width: 0;}#sk-container-id-2 div.sk-dashed-wrapped {border: 1px dashed gray;margin: 0 0.4em 0.5em 0.4em;box-sizing: border-box;padding-bottom: 0.4em;background-color: white;}#sk-container-id-2 div.sk-label label {font-family: monospace;font-weight: bold;display: inline-block;line-height: 1.2em;}#sk-container-id-2 div.sk-label-container {text-align: center;}#sk-container-id-2 div.sk-container {/* jupyter's `normalize.less` sets `[hidden] { display: none; }` but bootstrap.min.css set `[hidden] { display: none !important; }` so we also need the `!important` here to be able to override the default hidden behavior on the sphinx rendered scikit-learn.org. See: https://github.com/scikit-learn/scikit-learn/issues/21755 */display: inline-block !important;position: relative;}#sk-container-id-2 div.sk-text-repr-fallback {display: none;}</style><div id=\"sk-container-id-2\" class=\"sk-top-container\"><div class=\"sk-text-repr-fallback\"><pre>RandomizedSearchCV(cv=5, estimator=RandomForestRegressor(), n_iter=5, n_jobs=-1,\n",
       "                   param_distributions={&#x27;max_depth&#x27;: [10, 20, 30, 40, 50, 60,\n",
       "                                                      70, 80, 90, 100, None],\n",
       "                                        &#x27;min_samples_leaf&#x27;: [1, 2, 4],\n",
       "                                        &#x27;min_samples_split&#x27;: [2, 5, 10],\n",
       "                                        &#x27;n_estimators&#x27;: [400, 600, 800, 1000]},\n",
       "                   random_state=42, verbose=1)</pre><b>In a Jupyter environment, please rerun this cell to show the HTML representation or trust the notebook. <br />On GitHub, the HTML representation is unable to render, please try loading this page with nbviewer.org.</b></div><div class=\"sk-container\" hidden><div class=\"sk-item sk-dashed-wrapped\"><div class=\"sk-label-container\"><div class=\"sk-label sk-toggleable\"><input class=\"sk-toggleable__control sk-hidden--visually\" id=\"sk-estimator-id-2\" type=\"checkbox\" ><label for=\"sk-estimator-id-2\" class=\"sk-toggleable__label sk-toggleable__label-arrow\">RandomizedSearchCV</label><div class=\"sk-toggleable__content\"><pre>RandomizedSearchCV(cv=5, estimator=RandomForestRegressor(), n_iter=5, n_jobs=-1,\n",
       "                   param_distributions={&#x27;max_depth&#x27;: [10, 20, 30, 40, 50, 60,\n",
       "                                                      70, 80, 90, 100, None],\n",
       "                                        &#x27;min_samples_leaf&#x27;: [1, 2, 4],\n",
       "                                        &#x27;min_samples_split&#x27;: [2, 5, 10],\n",
       "                                        &#x27;n_estimators&#x27;: [400, 600, 800, 1000]},\n",
       "                   random_state=42, verbose=1)</pre></div></div></div><div class=\"sk-parallel\"><div class=\"sk-parallel-item\"><div class=\"sk-item\"><div class=\"sk-label-container\"><div class=\"sk-label sk-toggleable\"><input class=\"sk-toggleable__control sk-hidden--visually\" id=\"sk-estimator-id-3\" type=\"checkbox\" ><label for=\"sk-estimator-id-3\" class=\"sk-toggleable__label sk-toggleable__label-arrow\">estimator: RandomForestRegressor</label><div class=\"sk-toggleable__content\"><pre>RandomForestRegressor()</pre></div></div></div><div class=\"sk-serial\"><div class=\"sk-item\"><div class=\"sk-estimator sk-toggleable\"><input class=\"sk-toggleable__control sk-hidden--visually\" id=\"sk-estimator-id-4\" type=\"checkbox\" ><label for=\"sk-estimator-id-4\" class=\"sk-toggleable__label sk-toggleable__label-arrow\">RandomForestRegressor</label><div class=\"sk-toggleable__content\"><pre>RandomForestRegressor()</pre></div></div></div></div></div></div></div></div></div></div>"
      ],
      "text/plain": [
       "RandomizedSearchCV(cv=5, estimator=RandomForestRegressor(), n_iter=5, n_jobs=-1,\n",
       "                   param_distributions={'max_depth': [10, 20, 30, 40, 50, 60,\n",
       "                                                      70, 80, 90, 100, None],\n",
       "                                        'min_samples_leaf': [1, 2, 4],\n",
       "                                        'min_samples_split': [2, 5, 10],\n",
       "                                        'n_estimators': [400, 600, 800, 1000]},\n",
       "                   random_state=42, verbose=1)"
      ]
     },
     "execution_count": 44,
     "metadata": {},
     "output_type": "execute_result"
    }
   ],
   "source": [
    "rf = RandomForestRegressor()\n",
    "rf_random = RandomizedSearchCV(estimator = rf, param_distributions = random_grid, n_iter = 5, cv = 5, verbose=1, random_state=42, n_jobs = -1)\n",
    "rf_random.fit(X_train, y_train.values.ravel())"
   ]
  },
  {
   "cell_type": "code",
   "execution_count": 45,
   "metadata": {},
   "outputs": [],
   "source": [
    "scores_rf = cross_validate(rf_random.best_estimator_,\\\n",
    " X_train, y_train.values.ravel(), cv=5,\\\n",
    "  scoring=('r2', 'neg_root_mean_squared_error', 'neg_mean_absolute_error'))"
   ]
  },
  {
   "cell_type": "code",
   "execution_count": 46,
   "metadata": {},
   "outputs": [
    {
     "data": {
      "text/html": [
       "<div>\n",
       "<style scoped>\n",
       "    .dataframe tbody tr th:only-of-type {\n",
       "        vertical-align: middle;\n",
       "    }\n",
       "\n",
       "    .dataframe tbody tr th {\n",
       "        vertical-align: top;\n",
       "    }\n",
       "\n",
       "    .dataframe thead th {\n",
       "        text-align: right;\n",
       "    }\n",
       "</style>\n",
       "<table border=\"1\" class=\"dataframe\">\n",
       "  <thead>\n",
       "    <tr style=\"text-align: right;\">\n",
       "      <th></th>\n",
       "      <th>fit_time</th>\n",
       "      <th>score_time</th>\n",
       "      <th>test_r2</th>\n",
       "      <th>test_neg_root_mean_squared_error</th>\n",
       "      <th>test_neg_mean_absolute_error</th>\n",
       "    </tr>\n",
       "  </thead>\n",
       "  <tbody>\n",
       "    <tr>\n",
       "      <th>0</th>\n",
       "      <td>56.58</td>\n",
       "      <td>0.31</td>\n",
       "      <td>0.90</td>\n",
       "      <td>39604451.89</td>\n",
       "      <td>24476003.79</td>\n",
       "    </tr>\n",
       "    <tr>\n",
       "      <th>1</th>\n",
       "      <td>42.20</td>\n",
       "      <td>0.29</td>\n",
       "      <td>0.90</td>\n",
       "      <td>40278362.34</td>\n",
       "      <td>23871936.84</td>\n",
       "    </tr>\n",
       "    <tr>\n",
       "      <th>2</th>\n",
       "      <td>43.90</td>\n",
       "      <td>0.29</td>\n",
       "      <td>0.89</td>\n",
       "      <td>40530412.78</td>\n",
       "      <td>24853259.39</td>\n",
       "    </tr>\n",
       "    <tr>\n",
       "      <th>3</th>\n",
       "      <td>45.68</td>\n",
       "      <td>0.29</td>\n",
       "      <td>0.89</td>\n",
       "      <td>40921466.79</td>\n",
       "      <td>24911183.28</td>\n",
       "    </tr>\n",
       "    <tr>\n",
       "      <th>4</th>\n",
       "      <td>45.28</td>\n",
       "      <td>0.30</td>\n",
       "      <td>0.90</td>\n",
       "      <td>40279348.89</td>\n",
       "      <td>24709456.68</td>\n",
       "    </tr>\n",
       "  </tbody>\n",
       "</table>\n",
       "</div>"
      ],
      "text/plain": [
       "   fit_time  score_time  test_r2  test_neg_root_mean_squared_error  \\\n",
       "0     56.58        0.31     0.90                       39604451.89   \n",
       "1     42.20        0.29     0.90                       40278362.34   \n",
       "2     43.90        0.29     0.89                       40530412.78   \n",
       "3     45.68        0.29     0.89                       40921466.79   \n",
       "4     45.28        0.30     0.90                       40279348.89   \n",
       "\n",
       "   test_neg_mean_absolute_error  \n",
       "0                   24476003.79  \n",
       "1                   23871936.84  \n",
       "2                   24853259.39  \n",
       "3                   24911183.28  \n",
       "4                   24709456.68  "
      ]
     },
     "execution_count": 46,
     "metadata": {},
     "output_type": "execute_result"
    }
   ],
   "source": [
    "df_scores_rf = pd.DataFrame(scores_rf)\n",
    "df_scores_rf['test_neg_root_mean_squared_error'] = df_scores_rf['test_neg_root_mean_squared_error'] * -1\n",
    "df_scores_rf['test_neg_mean_absolute_error'] = df_scores_rf['test_neg_mean_absolute_error'] * -1\n",
    "df_scores_rf.round(2)"
   ]
  },
  {
   "cell_type": "code",
   "execution_count": 47,
   "metadata": {},
   "outputs": [],
   "source": [
    "pred_rf = rf_random.best_estimator_.predict(X_test)"
   ]
  },
  {
   "cell_type": "code",
   "execution_count": 48,
   "metadata": {},
   "outputs": [
    {
     "name": "stdout",
     "output_type": "stream",
     "text": [
      "MAE =  24344462.85024015\n",
      "MSE =  1613727726217638.8\n",
      "RMSE =  40171230.08096265\n",
      "R2 =  0.9016026321648858\n"
     ]
    }
   ],
   "source": [
    "print('MAE = ', metrics.mean_absolute_error(y_test, pred_rf))\n",
    "print('MSE = ', metrics.mean_squared_error(y_test, pred_rf))\n",
    "print('RMSE = ', np.sqrt(metrics.mean_squared_error(y_test, pred_rf)))\n",
    "print('R2 = ', metrics.r2_score(y_test, pred_rf))"
   ]
  },
  {
   "attachments": {},
   "cell_type": "markdown",
   "metadata": {},
   "source": [
    "# XGBoost"
   ]
  },
  {
   "cell_type": "code",
   "execution_count": 49,
   "metadata": {},
   "outputs": [],
   "source": [
    "params = { \n",
    "    'max_depth': [3, 6, 10],\n",
    "    'learning_rate': [0.01, 0.03, 0.07, 0.1],\n",
    "    'n_estimators': [100, 500, 800, 1000]\n",
    "}"
   ]
  },
  {
   "cell_type": "code",
   "execution_count": 50,
   "metadata": {},
   "outputs": [
    {
     "name": "stdout",
     "output_type": "stream",
     "text": [
      "Fitting 5 folds for each of 5 candidates, totalling 25 fits\n"
     ]
    },
    {
     "data": {
      "text/html": [
       "<style>#sk-container-id-3 {color: black;background-color: white;}#sk-container-id-3 pre{padding: 0;}#sk-container-id-3 div.sk-toggleable {background-color: white;}#sk-container-id-3 label.sk-toggleable__label {cursor: pointer;display: block;width: 100%;margin-bottom: 0;padding: 0.3em;box-sizing: border-box;text-align: center;}#sk-container-id-3 label.sk-toggleable__label-arrow:before {content: \"▸\";float: left;margin-right: 0.25em;color: #696969;}#sk-container-id-3 label.sk-toggleable__label-arrow:hover:before {color: black;}#sk-container-id-3 div.sk-estimator:hover label.sk-toggleable__label-arrow:before {color: black;}#sk-container-id-3 div.sk-toggleable__content {max-height: 0;max-width: 0;overflow: hidden;text-align: left;background-color: #f0f8ff;}#sk-container-id-3 div.sk-toggleable__content pre {margin: 0.2em;color: black;border-radius: 0.25em;background-color: #f0f8ff;}#sk-container-id-3 input.sk-toggleable__control:checked~div.sk-toggleable__content {max-height: 200px;max-width: 100%;overflow: auto;}#sk-container-id-3 input.sk-toggleable__control:checked~label.sk-toggleable__label-arrow:before {content: \"▾\";}#sk-container-id-3 div.sk-estimator input.sk-toggleable__control:checked~label.sk-toggleable__label {background-color: #d4ebff;}#sk-container-id-3 div.sk-label input.sk-toggleable__control:checked~label.sk-toggleable__label {background-color: #d4ebff;}#sk-container-id-3 input.sk-hidden--visually {border: 0;clip: rect(1px 1px 1px 1px);clip: rect(1px, 1px, 1px, 1px);height: 1px;margin: -1px;overflow: hidden;padding: 0;position: absolute;width: 1px;}#sk-container-id-3 div.sk-estimator {font-family: monospace;background-color: #f0f8ff;border: 1px dotted black;border-radius: 0.25em;box-sizing: border-box;margin-bottom: 0.5em;}#sk-container-id-3 div.sk-estimator:hover {background-color: #d4ebff;}#sk-container-id-3 div.sk-parallel-item::after {content: \"\";width: 100%;border-bottom: 1px solid gray;flex-grow: 1;}#sk-container-id-3 div.sk-label:hover label.sk-toggleable__label {background-color: #d4ebff;}#sk-container-id-3 div.sk-serial::before {content: \"\";position: absolute;border-left: 1px solid gray;box-sizing: border-box;top: 0;bottom: 0;left: 50%;z-index: 0;}#sk-container-id-3 div.sk-serial {display: flex;flex-direction: column;align-items: center;background-color: white;padding-right: 0.2em;padding-left: 0.2em;position: relative;}#sk-container-id-3 div.sk-item {position: relative;z-index: 1;}#sk-container-id-3 div.sk-parallel {display: flex;align-items: stretch;justify-content: center;background-color: white;position: relative;}#sk-container-id-3 div.sk-item::before, #sk-container-id-3 div.sk-parallel-item::before {content: \"\";position: absolute;border-left: 1px solid gray;box-sizing: border-box;top: 0;bottom: 0;left: 50%;z-index: -1;}#sk-container-id-3 div.sk-parallel-item {display: flex;flex-direction: column;z-index: 1;position: relative;background-color: white;}#sk-container-id-3 div.sk-parallel-item:first-child::after {align-self: flex-end;width: 50%;}#sk-container-id-3 div.sk-parallel-item:last-child::after {align-self: flex-start;width: 50%;}#sk-container-id-3 div.sk-parallel-item:only-child::after {width: 0;}#sk-container-id-3 div.sk-dashed-wrapped {border: 1px dashed gray;margin: 0 0.4em 0.5em 0.4em;box-sizing: border-box;padding-bottom: 0.4em;background-color: white;}#sk-container-id-3 div.sk-label label {font-family: monospace;font-weight: bold;display: inline-block;line-height: 1.2em;}#sk-container-id-3 div.sk-label-container {text-align: center;}#sk-container-id-3 div.sk-container {/* jupyter's `normalize.less` sets `[hidden] { display: none; }` but bootstrap.min.css set `[hidden] { display: none !important; }` so we also need the `!important` here to be able to override the default hidden behavior on the sphinx rendered scikit-learn.org. See: https://github.com/scikit-learn/scikit-learn/issues/21755 */display: inline-block !important;position: relative;}#sk-container-id-3 div.sk-text-repr-fallback {display: none;}</style><div id=\"sk-container-id-3\" class=\"sk-top-container\"><div class=\"sk-text-repr-fallback\"><pre>RandomizedSearchCV(cv=5,\n",
       "                   estimator=XGBRegressor(base_score=None, booster=None,\n",
       "                                          callbacks=None,\n",
       "                                          colsample_bylevel=None,\n",
       "                                          colsample_bynode=None,\n",
       "                                          colsample_bytree=None,\n",
       "                                          early_stopping_rounds=None,\n",
       "                                          enable_categorical=False,\n",
       "                                          eval_metric=None, feature_types=None,\n",
       "                                          gamma=None, gpu_id=None,\n",
       "                                          grow_policy=None,\n",
       "                                          importance_type=None,\n",
       "                                          interaction_constraints=None,\n",
       "                                          learning_rate=...\n",
       "                                          max_delta_step=None, max_depth=None,\n",
       "                                          max_leaves=None,\n",
       "                                          min_child_weight=None, missing=nan,\n",
       "                                          monotone_constraints=None,\n",
       "                                          n_estimators=100, n_jobs=None,\n",
       "                                          num_parallel_tree=None,\n",
       "                                          predictor=None, random_state=None, ...),\n",
       "                   n_iter=5, n_jobs=-1,\n",
       "                   param_distributions={&#x27;learning_rate&#x27;: [0.01, 0.03, 0.07,\n",
       "                                                          0.1],\n",
       "                                        &#x27;max_depth&#x27;: [3, 6, 10],\n",
       "                                        &#x27;n_estimators&#x27;: [100, 500, 800, 1000]},\n",
       "                   random_state=42, verbose=1)</pre><b>In a Jupyter environment, please rerun this cell to show the HTML representation or trust the notebook. <br />On GitHub, the HTML representation is unable to render, please try loading this page with nbviewer.org.</b></div><div class=\"sk-container\" hidden><div class=\"sk-item sk-dashed-wrapped\"><div class=\"sk-label-container\"><div class=\"sk-label sk-toggleable\"><input class=\"sk-toggleable__control sk-hidden--visually\" id=\"sk-estimator-id-5\" type=\"checkbox\" ><label for=\"sk-estimator-id-5\" class=\"sk-toggleable__label sk-toggleable__label-arrow\">RandomizedSearchCV</label><div class=\"sk-toggleable__content\"><pre>RandomizedSearchCV(cv=5,\n",
       "                   estimator=XGBRegressor(base_score=None, booster=None,\n",
       "                                          callbacks=None,\n",
       "                                          colsample_bylevel=None,\n",
       "                                          colsample_bynode=None,\n",
       "                                          colsample_bytree=None,\n",
       "                                          early_stopping_rounds=None,\n",
       "                                          enable_categorical=False,\n",
       "                                          eval_metric=None, feature_types=None,\n",
       "                                          gamma=None, gpu_id=None,\n",
       "                                          grow_policy=None,\n",
       "                                          importance_type=None,\n",
       "                                          interaction_constraints=None,\n",
       "                                          learning_rate=...\n",
       "                                          max_delta_step=None, max_depth=None,\n",
       "                                          max_leaves=None,\n",
       "                                          min_child_weight=None, missing=nan,\n",
       "                                          monotone_constraints=None,\n",
       "                                          n_estimators=100, n_jobs=None,\n",
       "                                          num_parallel_tree=None,\n",
       "                                          predictor=None, random_state=None, ...),\n",
       "                   n_iter=5, n_jobs=-1,\n",
       "                   param_distributions={&#x27;learning_rate&#x27;: [0.01, 0.03, 0.07,\n",
       "                                                          0.1],\n",
       "                                        &#x27;max_depth&#x27;: [3, 6, 10],\n",
       "                                        &#x27;n_estimators&#x27;: [100, 500, 800, 1000]},\n",
       "                   random_state=42, verbose=1)</pre></div></div></div><div class=\"sk-parallel\"><div class=\"sk-parallel-item\"><div class=\"sk-item\"><div class=\"sk-label-container\"><div class=\"sk-label sk-toggleable\"><input class=\"sk-toggleable__control sk-hidden--visually\" id=\"sk-estimator-id-6\" type=\"checkbox\" ><label for=\"sk-estimator-id-6\" class=\"sk-toggleable__label sk-toggleable__label-arrow\">estimator: XGBRegressor</label><div class=\"sk-toggleable__content\"><pre>XGBRegressor(base_score=None, booster=None, callbacks=None,\n",
       "             colsample_bylevel=None, colsample_bynode=None,\n",
       "             colsample_bytree=None, early_stopping_rounds=None,\n",
       "             enable_categorical=False, eval_metric=None, feature_types=None,\n",
       "             gamma=None, gpu_id=None, grow_policy=None, importance_type=None,\n",
       "             interaction_constraints=None, learning_rate=None, max_bin=None,\n",
       "             max_cat_threshold=None, max_cat_to_onehot=None,\n",
       "             max_delta_step=None, max_depth=None, max_leaves=None,\n",
       "             min_child_weight=None, missing=nan, monotone_constraints=None,\n",
       "             n_estimators=100, n_jobs=None, num_parallel_tree=None,\n",
       "             predictor=None, random_state=None, ...)</pre></div></div></div><div class=\"sk-serial\"><div class=\"sk-item\"><div class=\"sk-estimator sk-toggleable\"><input class=\"sk-toggleable__control sk-hidden--visually\" id=\"sk-estimator-id-7\" type=\"checkbox\" ><label for=\"sk-estimator-id-7\" class=\"sk-toggleable__label sk-toggleable__label-arrow\">XGBRegressor</label><div class=\"sk-toggleable__content\"><pre>XGBRegressor(base_score=None, booster=None, callbacks=None,\n",
       "             colsample_bylevel=None, colsample_bynode=None,\n",
       "             colsample_bytree=None, early_stopping_rounds=None,\n",
       "             enable_categorical=False, eval_metric=None, feature_types=None,\n",
       "             gamma=None, gpu_id=None, grow_policy=None, importance_type=None,\n",
       "             interaction_constraints=None, learning_rate=None, max_bin=None,\n",
       "             max_cat_threshold=None, max_cat_to_onehot=None,\n",
       "             max_delta_step=None, max_depth=None, max_leaves=None,\n",
       "             min_child_weight=None, missing=nan, monotone_constraints=None,\n",
       "             n_estimators=100, n_jobs=None, num_parallel_tree=None,\n",
       "             predictor=None, random_state=None, ...)</pre></div></div></div></div></div></div></div></div></div></div>"
      ],
      "text/plain": [
       "RandomizedSearchCV(cv=5,\n",
       "                   estimator=XGBRegressor(base_score=None, booster=None,\n",
       "                                          callbacks=None,\n",
       "                                          colsample_bylevel=None,\n",
       "                                          colsample_bynode=None,\n",
       "                                          colsample_bytree=None,\n",
       "                                          early_stopping_rounds=None,\n",
       "                                          enable_categorical=False,\n",
       "                                          eval_metric=None, feature_types=None,\n",
       "                                          gamma=None, gpu_id=None,\n",
       "                                          grow_policy=None,\n",
       "                                          importance_type=None,\n",
       "                                          interaction_constraints=None,\n",
       "                                          learning_rate=...\n",
       "                                          max_delta_step=None, max_depth=None,\n",
       "                                          max_leaves=None,\n",
       "                                          min_child_weight=None, missing=nan,\n",
       "                                          monotone_constraints=None,\n",
       "                                          n_estimators=100, n_jobs=None,\n",
       "                                          num_parallel_tree=None,\n",
       "                                          predictor=None, random_state=None, ...),\n",
       "                   n_iter=5, n_jobs=-1,\n",
       "                   param_distributions={'learning_rate': [0.01, 0.03, 0.07,\n",
       "                                                          0.1],\n",
       "                                        'max_depth': [3, 6, 10],\n",
       "                                        'n_estimators': [100, 500, 800, 1000]},\n",
       "                   random_state=42, verbose=1)"
      ]
     },
     "execution_count": 50,
     "metadata": {},
     "output_type": "execute_result"
    }
   ],
   "source": [
    "xg = XGBRegressor()\n",
    "xg_random = RandomizedSearchCV(estimator = xg, param_distributions = params, n_iter = 5, cv = 5, verbose=1, random_state=42, n_jobs = -1)\n",
    "xg_random.fit(X_train, y_train)"
   ]
  },
  {
   "cell_type": "code",
   "execution_count": 51,
   "metadata": {},
   "outputs": [],
   "source": [
    "scores_xg = cross_validate(xg_random.best_estimator_,\\\n",
    " X_train, y_train, cv=5,\\\n",
    "  scoring=('r2', 'neg_root_mean_squared_error', 'neg_mean_absolute_error'))"
   ]
  },
  {
   "cell_type": "code",
   "execution_count": 52,
   "metadata": {},
   "outputs": [
    {
     "data": {
      "text/html": [
       "<div>\n",
       "<style scoped>\n",
       "    .dataframe tbody tr th:only-of-type {\n",
       "        vertical-align: middle;\n",
       "    }\n",
       "\n",
       "    .dataframe tbody tr th {\n",
       "        vertical-align: top;\n",
       "    }\n",
       "\n",
       "    .dataframe thead th {\n",
       "        text-align: right;\n",
       "    }\n",
       "</style>\n",
       "<table border=\"1\" class=\"dataframe\">\n",
       "  <thead>\n",
       "    <tr style=\"text-align: right;\">\n",
       "      <th></th>\n",
       "      <th>fit_time</th>\n",
       "      <th>score_time</th>\n",
       "      <th>test_r2</th>\n",
       "      <th>test_neg_root_mean_squared_error</th>\n",
       "      <th>test_neg_mean_absolute_error</th>\n",
       "    </tr>\n",
       "  </thead>\n",
       "  <tbody>\n",
       "    <tr>\n",
       "      <th>0</th>\n",
       "      <td>20.13</td>\n",
       "      <td>0.04</td>\n",
       "      <td>0.94</td>\n",
       "      <td>30794859.24</td>\n",
       "      <td>17880358.26</td>\n",
       "    </tr>\n",
       "    <tr>\n",
       "      <th>1</th>\n",
       "      <td>21.95</td>\n",
       "      <td>0.04</td>\n",
       "      <td>0.92</td>\n",
       "      <td>34474067.05</td>\n",
       "      <td>18851662.07</td>\n",
       "    </tr>\n",
       "    <tr>\n",
       "      <th>2</th>\n",
       "      <td>19.74</td>\n",
       "      <td>0.03</td>\n",
       "      <td>0.93</td>\n",
       "      <td>32663004.18</td>\n",
       "      <td>18483584.91</td>\n",
       "    </tr>\n",
       "    <tr>\n",
       "      <th>3</th>\n",
       "      <td>20.45</td>\n",
       "      <td>0.04</td>\n",
       "      <td>0.92</td>\n",
       "      <td>35481620.56</td>\n",
       "      <td>18892168.31</td>\n",
       "    </tr>\n",
       "    <tr>\n",
       "      <th>4</th>\n",
       "      <td>19.48</td>\n",
       "      <td>0.04</td>\n",
       "      <td>0.92</td>\n",
       "      <td>34735601.15</td>\n",
       "      <td>19497946.48</td>\n",
       "    </tr>\n",
       "  </tbody>\n",
       "</table>\n",
       "</div>"
      ],
      "text/plain": [
       "   fit_time  score_time  test_r2  test_neg_root_mean_squared_error  \\\n",
       "0     20.13        0.04     0.94                       30794859.24   \n",
       "1     21.95        0.04     0.92                       34474067.05   \n",
       "2     19.74        0.03     0.93                       32663004.18   \n",
       "3     20.45        0.04     0.92                       35481620.56   \n",
       "4     19.48        0.04     0.92                       34735601.15   \n",
       "\n",
       "   test_neg_mean_absolute_error  \n",
       "0                   17880358.26  \n",
       "1                   18851662.07  \n",
       "2                   18483584.91  \n",
       "3                   18892168.31  \n",
       "4                   19497946.48  "
      ]
     },
     "execution_count": 52,
     "metadata": {},
     "output_type": "execute_result"
    }
   ],
   "source": [
    "df_scores_xg = pd.DataFrame(scores_xg)\n",
    "df_scores_xg['test_neg_root_mean_squared_error'] = df_scores_xg['test_neg_root_mean_squared_error'] * -1\n",
    "df_scores_xg['test_neg_mean_absolute_error'] = df_scores_xg['test_neg_mean_absolute_error'] * -1\n",
    "df_scores_xg.round(2)"
   ]
  },
  {
   "cell_type": "code",
   "execution_count": 53,
   "metadata": {},
   "outputs": [],
   "source": [
    "pred_xg = xg_random.best_estimator_.predict(X_test)"
   ]
  },
  {
   "cell_type": "code",
   "execution_count": 54,
   "metadata": {},
   "outputs": [
    {
     "name": "stdout",
     "output_type": "stream",
     "text": [
      "MAE =  18730051.318932306\n",
      "MSE =  1043636442494482.8\n",
      "RMSE =  32305362.441775557\n",
      "R2 =  0.9363640611424867\n"
     ]
    }
   ],
   "source": [
    "print('MAE = ', metrics.mean_absolute_error(y_test, pred_xg))\n",
    "print('MSE = ', metrics.mean_squared_error(y_test, pred_xg))\n",
    "print('RMSE = ', np.sqrt(metrics.mean_squared_error(y_test, pred_xg)))\n",
    "print('R2 = ', metrics.r2_score(y_test, pred_xg))"
   ]
  },
  {
   "cell_type": "code",
   "execution_count": 55,
   "metadata": {},
   "outputs": [
    {
     "data": {
      "text/plain": [
       "314542442.9442117"
      ]
     },
     "execution_count": 55,
     "metadata": {},
     "output_type": "execute_result"
    }
   ],
   "source": [
    "df['قیمت فروش نقدی'].mean()"
   ]
  },
  {
   "attachments": {},
   "cell_type": "markdown",
   "metadata": {},
   "source": [
    "## Feature Importances"
   ]
  },
  {
   "cell_type": "code",
   "execution_count": 56,
   "metadata": {},
   "outputs": [],
   "source": [
    "importances = pd.DataFrame(zip(X.columns, xg_random.best_estimator_.feature_importances_), columns=['feature', 'importance'])"
   ]
  },
  {
   "cell_type": "code",
   "execution_count": 57,
   "metadata": {},
   "outputs": [],
   "source": [
    "importances['root_feature'] = importances['feature'].apply(lambda x: x.split('_')[0])"
   ]
  },
  {
   "cell_type": "code",
   "execution_count": 58,
   "metadata": {},
   "outputs": [],
   "source": [
    "root_importances = importances.groupby('root_feature', as_index=False)['importance'].sum().sort_values(by='importance', ascending=False)"
   ]
  },
  {
   "cell_type": "code",
   "execution_count": 59,
   "metadata": {},
   "outputs": [
    {
     "data": {
      "text/html": [
       "<div>\n",
       "<style scoped>\n",
       "    .dataframe tbody tr th:only-of-type {\n",
       "        vertical-align: middle;\n",
       "    }\n",
       "\n",
       "    .dataframe tbody tr th {\n",
       "        vertical-align: top;\n",
       "    }\n",
       "\n",
       "    .dataframe thead th {\n",
       "        text-align: right;\n",
       "    }\n",
       "</style>\n",
       "<table border=\"1\" class=\"dataframe\">\n",
       "  <thead>\n",
       "    <tr style=\"text-align: right;\">\n",
       "      <th></th>\n",
       "      <th>root_feature</th>\n",
       "      <th>importance</th>\n",
       "    </tr>\n",
       "  </thead>\n",
       "  <tbody>\n",
       "    <tr>\n",
       "      <th>0</th>\n",
       "      <td>برند و تیپ</td>\n",
       "      <td>0.920884</td>\n",
       "    </tr>\n",
       "    <tr>\n",
       "      <th>5</th>\n",
       "      <td>وضعیت بدنه</td>\n",
       "      <td>0.042694</td>\n",
       "    </tr>\n",
       "    <tr>\n",
       "      <th>2</th>\n",
       "      <td>رنگ</td>\n",
       "      <td>0.019499</td>\n",
       "    </tr>\n",
       "    <tr>\n",
       "      <th>3</th>\n",
       "      <td>مدل (سال تولید)</td>\n",
       "      <td>0.012927</td>\n",
       "    </tr>\n",
       "    <tr>\n",
       "      <th>8</th>\n",
       "      <td>کارکرد</td>\n",
       "      <td>0.001323</td>\n",
       "    </tr>\n",
       "    <tr>\n",
       "      <th>7</th>\n",
       "      <td>وضعیت موتور</td>\n",
       "      <td>0.001302</td>\n",
       "    </tr>\n",
       "    <tr>\n",
       "      <th>6</th>\n",
       "      <td>وضعیت شاسی‌ها</td>\n",
       "      <td>0.000764</td>\n",
       "    </tr>\n",
       "    <tr>\n",
       "      <th>9</th>\n",
       "      <td>گیربکس</td>\n",
       "      <td>0.000451</td>\n",
       "    </tr>\n",
       "    <tr>\n",
       "      <th>1</th>\n",
       "      <td>دور رنگ</td>\n",
       "      <td>0.000079</td>\n",
       "    </tr>\n",
       "    <tr>\n",
       "      <th>4</th>\n",
       "      <td>مهلت بیمهٔ شخص ثالث</td>\n",
       "      <td>0.000078</td>\n",
       "    </tr>\n",
       "  </tbody>\n",
       "</table>\n",
       "</div>"
      ],
      "text/plain": [
       "          root_feature  importance\n",
       "0           برند و تیپ    0.920884\n",
       "5           وضعیت بدنه    0.042694\n",
       "2                  رنگ    0.019499\n",
       "3      مدل (سال تولید)    0.012927\n",
       "8               کارکرد    0.001323\n",
       "7          وضعیت موتور    0.001302\n",
       "6        وضعیت شاسی‌ها    0.000764\n",
       "9               گیربکس    0.000451\n",
       "1              دور رنگ    0.000079\n",
       "4  مهلت بیمهٔ شخص ثالث    0.000078"
      ]
     },
     "execution_count": 59,
     "metadata": {},
     "output_type": "execute_result"
    }
   ],
   "source": [
    "root_importances"
   ]
  },
  {
   "attachments": {},
   "cell_type": "markdown",
   "metadata": {},
   "source": [
    "# Evaluation"
   ]
  },
  {
   "cell_type": "code",
   "execution_count": 60,
   "metadata": {},
   "outputs": [
    {
     "data": {
      "text/html": [
       "<div>\n",
       "<style scoped>\n",
       "    .dataframe tbody tr th:only-of-type {\n",
       "        vertical-align: middle;\n",
       "    }\n",
       "\n",
       "    .dataframe tbody tr th {\n",
       "        vertical-align: top;\n",
       "    }\n",
       "\n",
       "    .dataframe thead th {\n",
       "        text-align: right;\n",
       "    }\n",
       "</style>\n",
       "<table border=\"1\" class=\"dataframe\">\n",
       "  <thead>\n",
       "    <tr style=\"text-align: right;\">\n",
       "      <th></th>\n",
       "      <th>MAE</th>\n",
       "      <th>RMSE</th>\n",
       "      <th>R2</th>\n",
       "    </tr>\n",
       "  </thead>\n",
       "  <tbody>\n",
       "    <tr>\n",
       "      <th>Xgboost</th>\n",
       "      <td>1.873005e+07</td>\n",
       "      <td>3.230536e+07</td>\n",
       "      <td>0.936364</td>\n",
       "    </tr>\n",
       "    <tr>\n",
       "      <th>Ridge regression</th>\n",
       "      <td>2.007913e+07</td>\n",
       "      <td>3.273722e+07</td>\n",
       "      <td>0.934651</td>\n",
       "    </tr>\n",
       "    <tr>\n",
       "      <th>SVR</th>\n",
       "      <td>2.096020e+07</td>\n",
       "      <td>3.609417e+07</td>\n",
       "      <td>0.920562</td>\n",
       "    </tr>\n",
       "    <tr>\n",
       "      <th>Random Forest</th>\n",
       "      <td>2.434446e+07</td>\n",
       "      <td>4.017123e+07</td>\n",
       "      <td>0.901603</td>\n",
       "    </tr>\n",
       "    <tr>\n",
       "      <th>KNN</th>\n",
       "      <td>2.813068e+07</td>\n",
       "      <td>4.433953e+07</td>\n",
       "      <td>0.880123</td>\n",
       "    </tr>\n",
       "  </tbody>\n",
       "</table>\n",
       "</div>"
      ],
      "text/plain": [
       "                           MAE          RMSE        R2\n",
       "Xgboost           1.873005e+07  3.230536e+07  0.936364\n",
       "Ridge regression  2.007913e+07  3.273722e+07  0.934651\n",
       "SVR               2.096020e+07  3.609417e+07  0.920562\n",
       "Random Forest     2.434446e+07  4.017123e+07  0.901603\n",
       "KNN               2.813068e+07  4.433953e+07  0.880123"
      ]
     },
     "execution_count": 60,
     "metadata": {},
     "output_type": "execute_result"
    }
   ],
   "source": [
    "res = pd.DataFrame([[metrics.mean_absolute_error(y_test, pred_i) for pred_i in [pred_rg, pred_knn, pred_rf, pred_xg]] + [metrics.mean_absolute_error(sc2.inverse_transform(y_test_sc), sc2.inverse_transform(pred_sv.reshape(-1, 1)))],\\\n",
    "    [np.sqrt(metrics.mean_squared_error(y_test, pred_i)) for pred_i in [pred_rg, pred_knn, pred_rf, pred_xg]] + [np.sqrt(metrics.mean_squared_error(sc2.inverse_transform(y_test_sc), sc2.inverse_transform(pred_sv.reshape(-1, 1))))],\\\n",
    "        [metrics.r2_score(y_test, pred_i) for pred_i in [pred_rg, pred_knn, pred_rf, pred_xg]] + [metrics.r2_score(sc2.inverse_transform(y_test_sc), sc2.inverse_transform(pred_sv.reshape(-1, 1)))]]).transpose()\n",
    "\n",
    "np.sqrt(metrics.mean_squared_error(sc2.inverse_transform(y_test_sc), sc2.inverse_transform(pred_sv.reshape(-1, 1))))\n",
    "\n",
    "res.index = ['Ridge regression', 'KNN', 'Random Forest', 'Xgboost', 'SVR']\n",
    "res.columns = ['MAE', 'RMSE', 'R2']\n",
    "res.sort_values(by='MAE')"
   ]
  }
 ],
 "metadata": {
  "kernelspec": {
   "display_name": "venv",
   "language": "python",
   "name": "python3"
  },
  "language_info": {
   "codemirror_mode": {
    "name": "ipython",
    "version": 3
   },
   "file_extension": ".py",
   "mimetype": "text/x-python",
   "name": "python",
   "nbconvert_exporter": "python",
   "pygments_lexer": "ipython3",
   "version": "3.9.7"
  },
  "orig_nbformat": 4,
  "vscode": {
   "interpreter": {
    "hash": "c65d09c9a847d96b6ad85e149d6663e726d1b859c9856438737a4a359219014a"
   }
  }
 },
 "nbformat": 4,
 "nbformat_minor": 2
}
